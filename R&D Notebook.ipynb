{
 "cells": [
  {
   "cell_type": "markdown",
   "id": "a8901dfd",
   "metadata": {},
   "source": [
    "# WORLD DEVELOPMENT INDICATORS. "
   ]
  },
  {
   "cell_type": "markdown",
   "id": "7369022b",
   "metadata": {},
   "source": [
    "Data Source: https://www.kaggle.com/worldbank/world-development-indicators"
   ]
  },
  {
   "cell_type": "markdown",
   "id": "e291fce9",
   "metadata": {},
   "source": [
    "## > Initial exploration of the Dataset"
   ]
  },
  {
   "cell_type": "code",
   "execution_count": 1,
   "id": "5bd42793",
   "metadata": {},
   "outputs": [],
   "source": [
    "import pandas as pd \n",
    "import numpy as np\n",
    "import random\n",
    "import matplotlib.pyplot as plt"
   ]
  },
  {
   "cell_type": "code",
   "execution_count": 2,
   "id": "1cd7e0d1",
   "metadata": {},
   "outputs": [],
   "source": [
    "data  = pd.read_csv('./world-development-indicators/Indicators.csv')"
   ]
  },
  {
   "cell_type": "code",
   "execution_count": 3,
   "id": "587849c6",
   "metadata": {},
   "outputs": [
    {
     "data": {
      "text/plain": [
       "(5656458, 6)"
      ]
     },
     "execution_count": 3,
     "metadata": {},
     "output_type": "execute_result"
    }
   ],
   "source": [
    "data.shape\n"
   ]
  },
  {
   "cell_type": "markdown",
   "id": "01ac54db",
   "metadata": {},
   "source": [
    "This is a really big data set with six columns.Lets see what are these columns and what do they hold."
   ]
  },
  {
   "cell_type": "code",
   "execution_count": 4,
   "id": "b7177ad2",
   "metadata": {},
   "outputs": [
    {
     "name": "stdout",
     "output_type": "stream",
     "text": [
      "CountryName                                             Arab World\n",
      "CountryCode                                                    ARB\n",
      "IndicatorName    Adolescent fertility rate (births per 1,000 wo...\n",
      "IndicatorCode                                          SP.ADO.TFRT\n",
      "Year                                                          1960\n",
      "Value                                                   133.560907\n",
      "Name: 0, dtype: object\n"
     ]
    }
   ],
   "source": [
    "# First row of the data set.\n",
    "row0 = data.iloc[0]\n",
    "#type(row0)\n",
    "print(row0)"
   ]
  },
  {
   "cell_type": "code",
   "execution_count": 5,
   "id": "71faf9ca",
   "metadata": {},
   "outputs": [
    {
     "data": {
      "text/plain": [
       "Index(['CountryName', 'CountryCode', 'IndicatorName', 'IndicatorCode', 'Year',\n",
       "       'Value'],\n",
       "      dtype='object')"
      ]
     },
     "execution_count": 5,
     "metadata": {},
     "output_type": "execute_result"
    }
   ],
   "source": [
    "row0.index"
   ]
  },
  {
   "cell_type": "code",
   "execution_count": 6,
   "id": "efe3054c",
   "metadata": {
    "scrolled": true
   },
   "outputs": [
    {
     "data": {
      "text/html": [
       "<div>\n",
       "<style scoped>\n",
       "    .dataframe tbody tr th:only-of-type {\n",
       "        vertical-align: middle;\n",
       "    }\n",
       "\n",
       "    .dataframe tbody tr th {\n",
       "        vertical-align: top;\n",
       "    }\n",
       "\n",
       "    .dataframe thead th {\n",
       "        text-align: right;\n",
       "    }\n",
       "</style>\n",
       "<table border=\"1\" class=\"dataframe\">\n",
       "  <thead>\n",
       "    <tr style=\"text-align: right;\">\n",
       "      <th></th>\n",
       "      <th>CountryName</th>\n",
       "      <th>CountryCode</th>\n",
       "      <th>IndicatorName</th>\n",
       "      <th>IndicatorCode</th>\n",
       "      <th>Year</th>\n",
       "      <th>Value</th>\n",
       "    </tr>\n",
       "  </thead>\n",
       "  <tbody>\n",
       "    <tr>\n",
       "      <th>0</th>\n",
       "      <td>Arab World</td>\n",
       "      <td>ARB</td>\n",
       "      <td>Adolescent fertility rate (births per 1,000 wo...</td>\n",
       "      <td>SP.ADO.TFRT</td>\n",
       "      <td>1960</td>\n",
       "      <td>1.335609e+02</td>\n",
       "    </tr>\n",
       "    <tr>\n",
       "      <th>1</th>\n",
       "      <td>Arab World</td>\n",
       "      <td>ARB</td>\n",
       "      <td>Age dependency ratio (% of working-age populat...</td>\n",
       "      <td>SP.POP.DPND</td>\n",
       "      <td>1960</td>\n",
       "      <td>8.779760e+01</td>\n",
       "    </tr>\n",
       "    <tr>\n",
       "      <th>2</th>\n",
       "      <td>Arab World</td>\n",
       "      <td>ARB</td>\n",
       "      <td>Age dependency ratio, old (% of working-age po...</td>\n",
       "      <td>SP.POP.DPND.OL</td>\n",
       "      <td>1960</td>\n",
       "      <td>6.634579e+00</td>\n",
       "    </tr>\n",
       "    <tr>\n",
       "      <th>3</th>\n",
       "      <td>Arab World</td>\n",
       "      <td>ARB</td>\n",
       "      <td>Age dependency ratio, young (% of working-age ...</td>\n",
       "      <td>SP.POP.DPND.YG</td>\n",
       "      <td>1960</td>\n",
       "      <td>8.102333e+01</td>\n",
       "    </tr>\n",
       "    <tr>\n",
       "      <th>4</th>\n",
       "      <td>Arab World</td>\n",
       "      <td>ARB</td>\n",
       "      <td>Arms exports (SIPRI trend indicator values)</td>\n",
       "      <td>MS.MIL.XPRT.KD</td>\n",
       "      <td>1960</td>\n",
       "      <td>3.000000e+06</td>\n",
       "    </tr>\n",
       "    <tr>\n",
       "      <th>5</th>\n",
       "      <td>Arab World</td>\n",
       "      <td>ARB</td>\n",
       "      <td>Arms imports (SIPRI trend indicator values)</td>\n",
       "      <td>MS.MIL.MPRT.KD</td>\n",
       "      <td>1960</td>\n",
       "      <td>5.380000e+08</td>\n",
       "    </tr>\n",
       "    <tr>\n",
       "      <th>6</th>\n",
       "      <td>Arab World</td>\n",
       "      <td>ARB</td>\n",
       "      <td>Birth rate, crude (per 1,000 people)</td>\n",
       "      <td>SP.DYN.CBRT.IN</td>\n",
       "      <td>1960</td>\n",
       "      <td>4.769789e+01</td>\n",
       "    </tr>\n",
       "    <tr>\n",
       "      <th>7</th>\n",
       "      <td>Arab World</td>\n",
       "      <td>ARB</td>\n",
       "      <td>CO2 emissions (kt)</td>\n",
       "      <td>EN.ATM.CO2E.KT</td>\n",
       "      <td>1960</td>\n",
       "      <td>5.956399e+04</td>\n",
       "    </tr>\n",
       "    <tr>\n",
       "      <th>8</th>\n",
       "      <td>Arab World</td>\n",
       "      <td>ARB</td>\n",
       "      <td>CO2 emissions (metric tons per capita)</td>\n",
       "      <td>EN.ATM.CO2E.PC</td>\n",
       "      <td>1960</td>\n",
       "      <td>6.439635e-01</td>\n",
       "    </tr>\n",
       "    <tr>\n",
       "      <th>9</th>\n",
       "      <td>Arab World</td>\n",
       "      <td>ARB</td>\n",
       "      <td>CO2 emissions from gaseous fuel consumption (%...</td>\n",
       "      <td>EN.ATM.CO2E.GF.ZS</td>\n",
       "      <td>1960</td>\n",
       "      <td>5.041292e+00</td>\n",
       "    </tr>\n",
       "  </tbody>\n",
       "</table>\n",
       "</div>"
      ],
      "text/plain": [
       "  CountryName CountryCode                                      IndicatorName  \\\n",
       "0  Arab World         ARB  Adolescent fertility rate (births per 1,000 wo...   \n",
       "1  Arab World         ARB  Age dependency ratio (% of working-age populat...   \n",
       "2  Arab World         ARB  Age dependency ratio, old (% of working-age po...   \n",
       "3  Arab World         ARB  Age dependency ratio, young (% of working-age ...   \n",
       "4  Arab World         ARB        Arms exports (SIPRI trend indicator values)   \n",
       "5  Arab World         ARB        Arms imports (SIPRI trend indicator values)   \n",
       "6  Arab World         ARB               Birth rate, crude (per 1,000 people)   \n",
       "7  Arab World         ARB                                 CO2 emissions (kt)   \n",
       "8  Arab World         ARB             CO2 emissions (metric tons per capita)   \n",
       "9  Arab World         ARB  CO2 emissions from gaseous fuel consumption (%...   \n",
       "\n",
       "       IndicatorCode  Year         Value  \n",
       "0        SP.ADO.TFRT  1960  1.335609e+02  \n",
       "1        SP.POP.DPND  1960  8.779760e+01  \n",
       "2     SP.POP.DPND.OL  1960  6.634579e+00  \n",
       "3     SP.POP.DPND.YG  1960  8.102333e+01  \n",
       "4     MS.MIL.XPRT.KD  1960  3.000000e+06  \n",
       "5     MS.MIL.MPRT.KD  1960  5.380000e+08  \n",
       "6     SP.DYN.CBRT.IN  1960  4.769789e+01  \n",
       "7     EN.ATM.CO2E.KT  1960  5.956399e+04  \n",
       "8     EN.ATM.CO2E.PC  1960  6.439635e-01  \n",
       "9  EN.ATM.CO2E.GF.ZS  1960  5.041292e+00  "
      ]
     },
     "execution_count": 6,
     "metadata": {},
     "output_type": "execute_result"
    }
   ],
   "source": [
    "data.head(10)"
   ]
  },
  {
   "cell_type": "markdown",
   "id": "79a894bd",
   "metadata": {},
   "source": [
    "## > How many unique country names does this data set hold?"
   ]
  },
  {
   "cell_type": "code",
   "execution_count": 7,
   "id": "c816e890",
   "metadata": {},
   "outputs": [
    {
     "data": {
      "text/plain": [
       "247"
      ]
     },
     "execution_count": 7,
     "metadata": {},
     "output_type": "execute_result"
    }
   ],
   "source": [
    "countries = data['CountryName'].unique().tolist()\n",
    "len(countries)"
   ]
  },
  {
   "cell_type": "code",
   "execution_count": 8,
   "id": "ff050b69",
   "metadata": {},
   "outputs": [
    {
     "name": "stdout",
     "output_type": "stream",
     "text": [
      "1 Arab World\n",
      "2 Caribbean small states\n",
      "3 Central Europe and the Baltics\n",
      "4 East Asia & Pacific (all income levels)\n",
      "5 East Asia & Pacific (developing only)\n",
      "6 Euro area\n",
      "7 Europe & Central Asia (all income levels)\n",
      "8 Europe & Central Asia (developing only)\n",
      "9 European Union\n",
      "10 Fragile and conflict affected situations\n",
      "11 Heavily indebted poor countries (HIPC)\n",
      "12 High income\n",
      "13 High income: nonOECD\n",
      "14 High income: OECD\n",
      "15 Latin America & Caribbean (all income levels)\n",
      "16 Latin America & Caribbean (developing only)\n",
      "17 Least developed countries: UN classification\n",
      "18 Low & middle income\n",
      "19 Low income\n",
      "20 Lower middle income\n",
      "21 Middle East & North Africa (all income levels)\n",
      "22 Middle East & North Africa (developing only)\n",
      "23 Middle income\n",
      "24 North America\n",
      "25 OECD members\n",
      "26 Other small states\n",
      "27 Pacific island small states\n",
      "28 Small states\n",
      "29 South Asia\n",
      "30 Sub-Saharan Africa (all income levels)\n",
      "31 Sub-Saharan Africa (developing only)\n",
      "32 Upper middle income\n",
      "33 World\n",
      "34 Afghanistan\n",
      "35 Albania\n",
      "36 Algeria\n",
      "37 American Samoa\n",
      "38 Andorra\n",
      "39 Angola\n",
      "40 Antigua and Barbuda\n",
      "41 Argentina\n",
      "42 Armenia\n",
      "43 Aruba\n",
      "44 Australia\n",
      "45 Austria\n",
      "46 Azerbaijan\n",
      "47 Bahamas, The\n",
      "48 Bahrain\n",
      "49 Bangladesh\n",
      "50 Barbados\n",
      "51 Belarus\n",
      "52 Belgium\n",
      "53 Belize\n",
      "54 Benin\n",
      "55 Bermuda\n",
      "56 Bhutan\n",
      "57 Bolivia\n",
      "58 Bosnia and Herzegovina\n",
      "59 Botswana\n",
      "60 Brazil\n",
      "61 Brunei Darussalam\n",
      "62 Bulgaria\n",
      "63 Burkina Faso\n",
      "64 Burundi\n",
      "65 Cabo Verde\n",
      "66 Cambodia\n",
      "67 Cameroon\n",
      "68 Canada\n",
      "69 Cayman Islands\n",
      "70 Central African Republic\n"
     ]
    }
   ],
   "source": [
    "# The list of countries with serial number (showing uptil 70). \n",
    "contry = data['CountryName'].unique().tolist()[:70]\n",
    "E = 1\n",
    "for c in contry:\n",
    "    print(E,c)\n",
    "    E = E++1"
   ]
  },
  {
   "cell_type": "markdown",
   "id": "a76a0558",
   "metadata": {},
   "source": [
    "## > How many unique indicators are there ?"
   ]
  },
  {
   "cell_type": "code",
   "execution_count": 9,
   "id": "75f19cdb",
   "metadata": {},
   "outputs": [
    {
     "name": "stdout",
     "output_type": "stream",
     "text": [
      "1344\n",
      "<class 'list'>\n"
     ]
    }
   ],
   "source": [
    "indicators = data['IndicatorName'].unique().tolist()\n",
    "print(len(indicators))\n",
    "print(type(indicators))"
   ]
  },
  {
   "cell_type": "code",
   "execution_count": 10,
   "id": "35afcfeb",
   "metadata": {},
   "outputs": [
    {
     "name": "stdout",
     "output_type": "stream",
     "text": [
      "1 Adolescent fertility rate (births per 1,000 women ages 15-19)\n",
      "2 Age dependency ratio (% of working-age population)\n",
      "3 Age dependency ratio, old (% of working-age population)\n",
      "4 Age dependency ratio, young (% of working-age population)\n",
      "5 Arms exports (SIPRI trend indicator values)\n",
      "6 Arms imports (SIPRI trend indicator values)\n",
      "7 Birth rate, crude (per 1,000 people)\n",
      "8 CO2 emissions (kt)\n",
      "9 CO2 emissions (metric tons per capita)\n",
      "10 CO2 emissions from gaseous fuel consumption (% of total)\n",
      "11 CO2 emissions from liquid fuel consumption (% of total)\n",
      "12 CO2 emissions from liquid fuel consumption (kt)\n",
      "13 CO2 emissions from solid fuel consumption (% of total)\n",
      "14 Death rate, crude (per 1,000 people)\n",
      "15 Fertility rate, total (births per woman)\n",
      "16 Fixed telephone subscriptions\n",
      "17 Fixed telephone subscriptions (per 100 people)\n",
      "18 Hospital beds (per 1,000 people)\n",
      "19 International migrant stock (% of population)\n",
      "20 International migrant stock, total\n",
      "21 Life expectancy at birth, female (years)\n",
      "22 Life expectancy at birth, male (years)\n",
      "23 Life expectancy at birth, total (years)\n",
      "24 Merchandise exports (current US$)\n",
      "25 Merchandise exports by the reporting economy (current US$)\n",
      "26 Merchandise exports by the reporting economy, residual (% of total merchandise exports)\n",
      "27 Merchandise exports to developing economies in East Asia & Pacific (% of total merchandise exports)\n",
      "28 Merchandise exports to developing economies in Latin America & the Caribbean (% of total merchandise exports)\n",
      "29 Merchandise exports to developing economies in Middle East & North Africa (% of total merchandise exports)\n",
      "30 Merchandise exports to developing economies in South Asia (% of total merchandise exports)\n",
      "31 Merchandise exports to developing economies in Sub-Saharan Africa (% of total merchandise exports)\n",
      "32 Merchandise exports to developing economies outside region (% of total merchandise exports)\n",
      "33 Merchandise exports to developing economies within region (% of total merchandise exports)\n",
      "34 Merchandise exports to economies in the Arab World (% of total merchandise exports)\n",
      "35 Merchandise exports to high-income economies (% of total merchandise exports)\n",
      "36 Merchandise imports (current US$)\n",
      "37 Merchandise imports by the reporting economy (current US$)\n",
      "38 Merchandise imports by the reporting economy, residual (% of total merchandise imports)\n",
      "39 Merchandise imports from developing economies in East Asia & Pacific (% of total merchandise imports)\n",
      "40 Merchandise imports from developing economies in Latin America & the Caribbean (% of total merchandise imports)\n",
      "41 Merchandise imports from developing economies in Middle East & North Africa (% of total merchandise imports)\n",
      "42 Merchandise imports from developing economies in South Asia (% of total merchandise imports)\n",
      "43 Merchandise imports from developing economies in Sub-Saharan Africa (% of total merchandise imports)\n",
      "44 Merchandise imports from developing economies outside region (% of total merchandise imports)\n",
      "45 Merchandise imports from developing economies within region (% of total merchandise imports)\n",
      "46 Merchandise imports from economies in the Arab World (% of total merchandise imports)\n",
      "47 Merchandise imports from high-income economies (% of total merchandise imports)\n",
      "48 Merchandise trade (% of GDP)\n",
      "49 Mobile cellular subscriptions\n",
      "50 Mobile cellular subscriptions (per 100 people)\n",
      "51 Mortality rate, adult, female (per 1,000 female adults)\n",
      "52 Mortality rate, adult, male (per 1,000 male adults)\n",
      "53 Mortality rate, infant (per 1,000 live births)\n",
      "54 Mortality rate, under-5 (per 1,000)\n",
      "55 Net bilateral aid flows from DAC donors, European Union institutions (current US$)\n",
      "56 Net bilateral aid flows from DAC donors, France (current US$)\n",
      "57 Net bilateral aid flows from DAC donors, Germany (current US$)\n",
      "58 Net bilateral aid flows from DAC donors, Italy (current US$)\n",
      "59 Net bilateral aid flows from DAC donors, Japan (current US$)\n",
      "60 Net bilateral aid flows from DAC donors, Total (current US$)\n",
      "61 Net bilateral aid flows from DAC donors, United Kingdom (current US$)\n",
      "62 Net bilateral aid flows from DAC donors, United States (current US$)\n",
      "63 Net ODA received per capita (current US$)\n",
      "64 Net official development assistance and official aid received (constant 2012 US$)\n",
      "65 Net official development assistance and official aid received (current US$)\n",
      "66 Net official development assistance received (constant 2012 US$)\n",
      "67 Net official development assistance received (current US$)\n",
      "68 Population ages 65 and above (% of total)\n",
      "69 Population in the largest city (% of urban population)\n",
      "70 Population in urban agglomerations of more than 1 million (% of total population)\n"
     ]
    }
   ],
   "source": [
    "# Indicators with serial number (showing uptil 70 )\n",
    "indicators = data['IndicatorName'].unique().tolist()[:70]\n",
    "E = 1\n",
    "for i in indicators:\n",
    "    print(E,i)\n",
    "    E = E++1"
   ]
  },
  {
   "cell_type": "markdown",
   "id": "70774ff2",
   "metadata": {},
   "source": [
    "##  > How many years of data do we have ?"
   ]
  },
  {
   "cell_type": "code",
   "execution_count": 11,
   "id": "c7dbf7ba",
   "metadata": {},
   "outputs": [
    {
     "data": {
      "text/plain": [
       "56"
      ]
     },
     "execution_count": 11,
     "metadata": {},
     "output_type": "execute_result"
    }
   ],
   "source": [
    "# How many years of data do we have ?\n",
    "years = data['Year'].unique().tolist()\n",
    "len(years)"
   ]
  },
  {
   "cell_type": "markdown",
   "id": "de816433",
   "metadata": {},
   "source": [
    "### What's the range of years?"
   ]
  },
  {
   "cell_type": "code",
   "execution_count": 12,
   "id": "19c55bcf",
   "metadata": {},
   "outputs": [
    {
     "name": "stdout",
     "output_type": "stream",
     "text": [
      "1960  to  2015\n"
     ]
    }
   ],
   "source": [
    "print(min(years),\" to \",max(years))"
   ]
  },
  {
   "cell_type": "markdown",
   "id": "909e7c4f",
   "metadata": {},
   "source": [
    "## > Picking USA as the country and exploring the data available."
   ]
  },
  {
   "cell_type": "code",
   "execution_count": 13,
   "id": "c9c2e4c2",
   "metadata": {},
   "outputs": [],
   "source": [
    "# All the data related to USA.\n",
    "hist_country_code = 'USA'\n",
    "hist_country = 'United States'\n",
    "\n",
    "mask1 = data['CountryCode'].str.contains(hist_country_code)\n",
    "mask2 = data['CountryName'].str.contains(hist_country)\n",
    "\n",
    "stage = data[mask1 & mask2]"
   ]
  },
  {
   "cell_type": "code",
   "execution_count": 14,
   "id": "979297bb",
   "metadata": {},
   "outputs": [
    {
     "data": {
      "text/html": [
       "<div>\n",
       "<style scoped>\n",
       "    .dataframe tbody tr th:only-of-type {\n",
       "        vertical-align: middle;\n",
       "    }\n",
       "\n",
       "    .dataframe tbody tr th {\n",
       "        vertical-align: top;\n",
       "    }\n",
       "\n",
       "    .dataframe thead th {\n",
       "        text-align: right;\n",
       "    }\n",
       "</style>\n",
       "<table border=\"1\" class=\"dataframe\">\n",
       "  <thead>\n",
       "    <tr style=\"text-align: right;\">\n",
       "      <th></th>\n",
       "      <th>CountryName</th>\n",
       "      <th>CountryCode</th>\n",
       "      <th>IndicatorName</th>\n",
       "      <th>IndicatorCode</th>\n",
       "      <th>Year</th>\n",
       "      <th>Value</th>\n",
       "    </tr>\n",
       "  </thead>\n",
       "  <tbody>\n",
       "    <tr>\n",
       "      <th>22220</th>\n",
       "      <td>United States</td>\n",
       "      <td>USA</td>\n",
       "      <td>Adolescent fertility rate (births per 1,000 wo...</td>\n",
       "      <td>SP.ADO.TFRT</td>\n",
       "      <td>1960</td>\n",
       "      <td>8.498720e+01</td>\n",
       "    </tr>\n",
       "    <tr>\n",
       "      <th>22221</th>\n",
       "      <td>United States</td>\n",
       "      <td>USA</td>\n",
       "      <td>Age dependency ratio (% of working-age populat...</td>\n",
       "      <td>SP.POP.DPND</td>\n",
       "      <td>1960</td>\n",
       "      <td>6.652484e+01</td>\n",
       "    </tr>\n",
       "    <tr>\n",
       "      <th>22222</th>\n",
       "      <td>United States</td>\n",
       "      <td>USA</td>\n",
       "      <td>Age dependency ratio, old (% of working-age po...</td>\n",
       "      <td>SP.POP.DPND.OL</td>\n",
       "      <td>1960</td>\n",
       "      <td>1.523026e+01</td>\n",
       "    </tr>\n",
       "    <tr>\n",
       "      <th>22223</th>\n",
       "      <td>United States</td>\n",
       "      <td>USA</td>\n",
       "      <td>Age dependency ratio, young (% of working-age ...</td>\n",
       "      <td>SP.POP.DPND.YG</td>\n",
       "      <td>1960</td>\n",
       "      <td>5.129458e+01</td>\n",
       "    </tr>\n",
       "    <tr>\n",
       "      <th>22224</th>\n",
       "      <td>United States</td>\n",
       "      <td>USA</td>\n",
       "      <td>Alternative and nuclear energy (% of total ene...</td>\n",
       "      <td>EG.USE.COMM.CL.ZS</td>\n",
       "      <td>1960</td>\n",
       "      <td>1.261261e+00</td>\n",
       "    </tr>\n",
       "    <tr>\n",
       "      <th>22225</th>\n",
       "      <td>United States</td>\n",
       "      <td>USA</td>\n",
       "      <td>Arms exports (SIPRI trend indicator values)</td>\n",
       "      <td>MS.MIL.XPRT.KD</td>\n",
       "      <td>1960</td>\n",
       "      <td>5.961000e+09</td>\n",
       "    </tr>\n",
       "    <tr>\n",
       "      <th>22226</th>\n",
       "      <td>United States</td>\n",
       "      <td>USA</td>\n",
       "      <td>Arms imports (SIPRI trend indicator values)</td>\n",
       "      <td>MS.MIL.MPRT.KD</td>\n",
       "      <td>1960</td>\n",
       "      <td>2.190000e+08</td>\n",
       "    </tr>\n",
       "    <tr>\n",
       "      <th>22227</th>\n",
       "      <td>United States</td>\n",
       "      <td>USA</td>\n",
       "      <td>Birth rate, crude (per 1,000 people)</td>\n",
       "      <td>SP.DYN.CBRT.IN</td>\n",
       "      <td>1960</td>\n",
       "      <td>2.370000e+01</td>\n",
       "    </tr>\n",
       "    <tr>\n",
       "      <th>22228</th>\n",
       "      <td>United States</td>\n",
       "      <td>USA</td>\n",
       "      <td>Changes in inventories (current LCU)</td>\n",
       "      <td>NE.GDI.STKB.CN</td>\n",
       "      <td>1960</td>\n",
       "      <td>3.200000e+09</td>\n",
       "    </tr>\n",
       "    <tr>\n",
       "      <th>22229</th>\n",
       "      <td>United States</td>\n",
       "      <td>USA</td>\n",
       "      <td>Changes in inventories (current US$)</td>\n",
       "      <td>NE.GDI.STKB.CD</td>\n",
       "      <td>1960</td>\n",
       "      <td>3.200000e+09</td>\n",
       "    </tr>\n",
       "    <tr>\n",
       "      <th>22230</th>\n",
       "      <td>United States</td>\n",
       "      <td>USA</td>\n",
       "      <td>CO2 emissions (kg per 2005 US$ of GDP)</td>\n",
       "      <td>EN.ATM.CO2E.KD.GD</td>\n",
       "      <td>1960</td>\n",
       "      <td>1.033397e+00</td>\n",
       "    </tr>\n",
       "    <tr>\n",
       "      <th>22231</th>\n",
       "      <td>United States</td>\n",
       "      <td>USA</td>\n",
       "      <td>CO2 emissions (kt)</td>\n",
       "      <td>EN.ATM.CO2E.KT</td>\n",
       "      <td>1960</td>\n",
       "      <td>2.890696e+06</td>\n",
       "    </tr>\n",
       "    <tr>\n",
       "      <th>22232</th>\n",
       "      <td>United States</td>\n",
       "      <td>USA</td>\n",
       "      <td>CO2 emissions (metric tons per capita)</td>\n",
       "      <td>EN.ATM.CO2E.PC</td>\n",
       "      <td>1960</td>\n",
       "      <td>1.599978e+01</td>\n",
       "    </tr>\n",
       "    <tr>\n",
       "      <th>22233</th>\n",
       "      <td>United States</td>\n",
       "      <td>USA</td>\n",
       "      <td>CO2 emissions from electricity and heat produc...</td>\n",
       "      <td>EN.CO2.ETOT.ZS</td>\n",
       "      <td>1960</td>\n",
       "      <td>2.771343e+01</td>\n",
       "    </tr>\n",
       "    <tr>\n",
       "      <th>22234</th>\n",
       "      <td>United States</td>\n",
       "      <td>USA</td>\n",
       "      <td>CO2 emissions from gaseous fuel consumption (%...</td>\n",
       "      <td>EN.ATM.CO2E.GF.ZS</td>\n",
       "      <td>1960</td>\n",
       "      <td>2.181276e+01</td>\n",
       "    </tr>\n",
       "    <tr>\n",
       "      <th>22235</th>\n",
       "      <td>United States</td>\n",
       "      <td>USA</td>\n",
       "      <td>CO2 emissions from gaseous fuel consumption (kt)</td>\n",
       "      <td>EN.ATM.CO2E.GF.KT</td>\n",
       "      <td>1960</td>\n",
       "      <td>6.305407e+05</td>\n",
       "    </tr>\n",
       "    <tr>\n",
       "      <th>22236</th>\n",
       "      <td>United States</td>\n",
       "      <td>USA</td>\n",
       "      <td>CO2 emissions from liquid fuel consumption (% ...</td>\n",
       "      <td>EN.ATM.CO2E.LF.ZS</td>\n",
       "      <td>1960</td>\n",
       "      <td>4.437270e+01</td>\n",
       "    </tr>\n",
       "    <tr>\n",
       "      <th>22237</th>\n",
       "      <td>United States</td>\n",
       "      <td>USA</td>\n",
       "      <td>CO2 emissions from liquid fuel consumption (kt)</td>\n",
       "      <td>EN.ATM.CO2E.LF.KT</td>\n",
       "      <td>1960</td>\n",
       "      <td>1.282680e+06</td>\n",
       "    </tr>\n",
       "    <tr>\n",
       "      <th>22238</th>\n",
       "      <td>United States</td>\n",
       "      <td>USA</td>\n",
       "      <td>CO2 emissions from manufacturing industries an...</td>\n",
       "      <td>EN.CO2.MANF.ZS</td>\n",
       "      <td>1960</td>\n",
       "      <td>2.736536e+01</td>\n",
       "    </tr>\n",
       "    <tr>\n",
       "      <th>22239</th>\n",
       "      <td>United States</td>\n",
       "      <td>USA</td>\n",
       "      <td>CO2 emissions from other sectors, excluding re...</td>\n",
       "      <td>EN.CO2.OTHX.ZS</td>\n",
       "      <td>1960</td>\n",
       "      <td>1.889301e+00</td>\n",
       "    </tr>\n",
       "    <tr>\n",
       "      <th>22240</th>\n",
       "      <td>United States</td>\n",
       "      <td>USA</td>\n",
       "      <td>CO2 emissions from residential buildings and c...</td>\n",
       "      <td>EN.CO2.BLDG.ZS</td>\n",
       "      <td>1960</td>\n",
       "      <td>1.938400e+01</td>\n",
       "    </tr>\n",
       "    <tr>\n",
       "      <th>22241</th>\n",
       "      <td>United States</td>\n",
       "      <td>USA</td>\n",
       "      <td>CO2 emissions from solid fuel consumption (% o...</td>\n",
       "      <td>EN.ATM.CO2E.SF.ZS</td>\n",
       "      <td>1960</td>\n",
       "      <td>3.178181e+01</td>\n",
       "    </tr>\n",
       "    <tr>\n",
       "      <th>22242</th>\n",
       "      <td>United States</td>\n",
       "      <td>USA</td>\n",
       "      <td>CO2 emissions from solid fuel consumption (kt)</td>\n",
       "      <td>EN.ATM.CO2E.SF.KT</td>\n",
       "      <td>1960</td>\n",
       "      <td>9.187155e+05</td>\n",
       "    </tr>\n",
       "    <tr>\n",
       "      <th>22243</th>\n",
       "      <td>United States</td>\n",
       "      <td>USA</td>\n",
       "      <td>CO2 emissions from transport (% of total fuel ...</td>\n",
       "      <td>EN.CO2.TRAN.ZS</td>\n",
       "      <td>1960</td>\n",
       "      <td>2.364755e+01</td>\n",
       "    </tr>\n",
       "    <tr>\n",
       "      <th>22244</th>\n",
       "      <td>United States</td>\n",
       "      <td>USA</td>\n",
       "      <td>CO2 intensity (kg per kg of oil equivalent ene...</td>\n",
       "      <td>EN.ATM.CO2E.EG.ZS</td>\n",
       "      <td>1960</td>\n",
       "      <td>2.835965e+00</td>\n",
       "    </tr>\n",
       "  </tbody>\n",
       "</table>\n",
       "</div>"
      ],
      "text/plain": [
       "         CountryName CountryCode  \\\n",
       "22220  United States         USA   \n",
       "22221  United States         USA   \n",
       "22222  United States         USA   \n",
       "22223  United States         USA   \n",
       "22224  United States         USA   \n",
       "22225  United States         USA   \n",
       "22226  United States         USA   \n",
       "22227  United States         USA   \n",
       "22228  United States         USA   \n",
       "22229  United States         USA   \n",
       "22230  United States         USA   \n",
       "22231  United States         USA   \n",
       "22232  United States         USA   \n",
       "22233  United States         USA   \n",
       "22234  United States         USA   \n",
       "22235  United States         USA   \n",
       "22236  United States         USA   \n",
       "22237  United States         USA   \n",
       "22238  United States         USA   \n",
       "22239  United States         USA   \n",
       "22240  United States         USA   \n",
       "22241  United States         USA   \n",
       "22242  United States         USA   \n",
       "22243  United States         USA   \n",
       "22244  United States         USA   \n",
       "\n",
       "                                           IndicatorName      IndicatorCode  \\\n",
       "22220  Adolescent fertility rate (births per 1,000 wo...        SP.ADO.TFRT   \n",
       "22221  Age dependency ratio (% of working-age populat...        SP.POP.DPND   \n",
       "22222  Age dependency ratio, old (% of working-age po...     SP.POP.DPND.OL   \n",
       "22223  Age dependency ratio, young (% of working-age ...     SP.POP.DPND.YG   \n",
       "22224  Alternative and nuclear energy (% of total ene...  EG.USE.COMM.CL.ZS   \n",
       "22225        Arms exports (SIPRI trend indicator values)     MS.MIL.XPRT.KD   \n",
       "22226        Arms imports (SIPRI trend indicator values)     MS.MIL.MPRT.KD   \n",
       "22227               Birth rate, crude (per 1,000 people)     SP.DYN.CBRT.IN   \n",
       "22228               Changes in inventories (current LCU)     NE.GDI.STKB.CN   \n",
       "22229               Changes in inventories (current US$)     NE.GDI.STKB.CD   \n",
       "22230             CO2 emissions (kg per 2005 US$ of GDP)  EN.ATM.CO2E.KD.GD   \n",
       "22231                                 CO2 emissions (kt)     EN.ATM.CO2E.KT   \n",
       "22232             CO2 emissions (metric tons per capita)     EN.ATM.CO2E.PC   \n",
       "22233  CO2 emissions from electricity and heat produc...     EN.CO2.ETOT.ZS   \n",
       "22234  CO2 emissions from gaseous fuel consumption (%...  EN.ATM.CO2E.GF.ZS   \n",
       "22235   CO2 emissions from gaseous fuel consumption (kt)  EN.ATM.CO2E.GF.KT   \n",
       "22236  CO2 emissions from liquid fuel consumption (% ...  EN.ATM.CO2E.LF.ZS   \n",
       "22237    CO2 emissions from liquid fuel consumption (kt)  EN.ATM.CO2E.LF.KT   \n",
       "22238  CO2 emissions from manufacturing industries an...     EN.CO2.MANF.ZS   \n",
       "22239  CO2 emissions from other sectors, excluding re...     EN.CO2.OTHX.ZS   \n",
       "22240  CO2 emissions from residential buildings and c...     EN.CO2.BLDG.ZS   \n",
       "22241  CO2 emissions from solid fuel consumption (% o...  EN.ATM.CO2E.SF.ZS   \n",
       "22242     CO2 emissions from solid fuel consumption (kt)  EN.ATM.CO2E.SF.KT   \n",
       "22243  CO2 emissions from transport (% of total fuel ...     EN.CO2.TRAN.ZS   \n",
       "22244  CO2 intensity (kg per kg of oil equivalent ene...  EN.ATM.CO2E.EG.ZS   \n",
       "\n",
       "       Year         Value  \n",
       "22220  1960  8.498720e+01  \n",
       "22221  1960  6.652484e+01  \n",
       "22222  1960  1.523026e+01  \n",
       "22223  1960  5.129458e+01  \n",
       "22224  1960  1.261261e+00  \n",
       "22225  1960  5.961000e+09  \n",
       "22226  1960  2.190000e+08  \n",
       "22227  1960  2.370000e+01  \n",
       "22228  1960  3.200000e+09  \n",
       "22229  1960  3.200000e+09  \n",
       "22230  1960  1.033397e+00  \n",
       "22231  1960  2.890696e+06  \n",
       "22232  1960  1.599978e+01  \n",
       "22233  1960  2.771343e+01  \n",
       "22234  1960  2.181276e+01  \n",
       "22235  1960  6.305407e+05  \n",
       "22236  1960  4.437270e+01  \n",
       "22237  1960  1.282680e+06  \n",
       "22238  1960  2.736536e+01  \n",
       "22239  1960  1.889301e+00  \n",
       "22240  1960  1.938400e+01  \n",
       "22241  1960  3.178181e+01  \n",
       "22242  1960  9.187155e+05  \n",
       "22243  1960  2.364755e+01  \n",
       "22244  1960  2.835965e+00  "
      ]
     },
     "execution_count": 14,
     "metadata": {},
     "output_type": "execute_result"
    }
   ],
   "source": [
    "stage.head(25)"
   ]
  },
  {
   "cell_type": "code",
   "execution_count": 15,
   "id": "cc132331",
   "metadata": {},
   "outputs": [
    {
     "name": "stdout",
     "output_type": "stream",
     "text": [
      "           CountryName CountryCode  \\\n",
      "4653167  United States         USA   \n",
      "4653168  United States         USA   \n",
      "4831835  United States         USA   \n",
      "4831836  United States         USA   \n",
      "5018573  United States         USA   \n",
      "5018574  United States         USA   \n",
      "5195210  United States         USA   \n",
      "5195211  United States         USA   \n",
      "5370378  United States         USA   \n",
      "5370379  United States         USA   \n",
      "\n",
      "                                           IndicatorName      IndicatorCode  \\\n",
      "4653167  Research and development expenditure (% of GDP)  GB.XPD.RSDV.GD.ZS   \n",
      "4653168          Researchers in R&D (per million people)  SP.POP.SCIE.RD.P6   \n",
      "4831835  Research and development expenditure (% of GDP)  GB.XPD.RSDV.GD.ZS   \n",
      "4831836          Researchers in R&D (per million people)  SP.POP.SCIE.RD.P6   \n",
      "5018573  Research and development expenditure (% of GDP)  GB.XPD.RSDV.GD.ZS   \n",
      "5018574          Researchers in R&D (per million people)  SP.POP.SCIE.RD.P6   \n",
      "5195210  Research and development expenditure (% of GDP)  GB.XPD.RSDV.GD.ZS   \n",
      "5195211          Researchers in R&D (per million people)  SP.POP.SCIE.RD.P6   \n",
      "5370378  Research and development expenditure (% of GDP)  GB.XPD.RSDV.GD.ZS   \n",
      "5370379          Researchers in R&D (per million people)  SP.POP.SCIE.RD.P6   \n",
      "\n",
      "         Year       Value  \n",
      "4653167  2008     2.76683  \n",
      "4653168  2008  3911.75449  \n",
      "4831835  2009     2.81578  \n",
      "4831836  2009  4071.78879  \n",
      "5018573  2010     2.73716  \n",
      "5018574  2010  3866.96294  \n",
      "5195210  2011     2.76547  \n",
      "5195211  2011  4010.84181  \n",
      "5370378  2012     2.80604  \n",
      "5370379  2012  4018.63453  \n"
     ]
    }
   ],
   "source": [
    "# last 10 data points related to USA with Indicator containing keyword 'Research'\n",
    "is_indicator = data['IndicatorName'].str.contains('Research')\n",
    "hist_country_code = 'USA'\n",
    "mask1 = data['CountryCode'].str.contains(hist_country_code)\n",
    "\n",
    "STAGE2 = data[is_indicator & mask1][-10:]\n",
    "print(STAGE2)"
   ]
  },
  {
   "cell_type": "code",
   "execution_count": 16,
   "id": "4c46d7bc",
   "metadata": {},
   "outputs": [
    {
     "name": "stdout",
     "output_type": "stream",
     "text": [
      "           CountryName CountryCode                              IndicatorName  \\\n",
      "4115835  United States         USA  Scientific and technical journal articles   \n",
      "4293001  United States         USA  Scientific and technical journal articles   \n",
      "4473342  United States         USA  Scientific and technical journal articles   \n",
      "4653177  United States         USA  Scientific and technical journal articles   \n",
      "4831845  United States         USA  Scientific and technical journal articles   \n",
      "\n",
      "          IndicatorCode  Year     Value  \n",
      "4115835  IP.JRN.ARTC.SC  2005  205564.6  \n",
      "4293001  IP.JRN.ARTC.SC  2006  209272.3  \n",
      "4473342  IP.JRN.ARTC.SC  2007  209898.0  \n",
      "4653177  IP.JRN.ARTC.SC  2008  212883.0  \n",
      "4831845  IP.JRN.ARTC.SC  2009  208600.8  \n"
     ]
    }
   ],
   "source": [
    "# last 5 data points related to India  with Indicator containing keyword 'Scientific and technical'\n",
    "is_indicator = data['IndicatorName'].str.contains('Scientific and technical')\n",
    "\n",
    "hist_country_code = 'USA'\n",
    "mask1 = data['CountryCode'].str.contains(hist_country_code)\n",
    "\n",
    "STAGE2 = data[is_indicator & mask1][-5:]\n",
    "print(STAGE2)"
   ]
  },
  {
   "cell_type": "code",
   "execution_count": 17,
   "id": "b9ac9705",
   "metadata": {},
   "outputs": [
    {
     "name": "stdout",
     "output_type": "stream",
     "text": [
      "           CountryName CountryCode                       IndicatorName  \\\n",
      "5655819  United States         USA  Plant species (higher), threatened   \n",
      "\n",
      "          IndicatorCode  Year  Value  \n",
      "5655819  EN.HPT.THRD.NO  2015  379.0  \n"
     ]
    }
   ],
   "source": [
    "# Data points related to USA with Indicator containing keyword 'Plant species'\n",
    "is_indicator = data['IndicatorName'].str.contains('Plant species')\n",
    "\n",
    "hist_country_code = 'USA'\n",
    "mask1 = data['CountryCode'].str.contains(hist_country_code)\n",
    "\n",
    "STAGE2 = data[is_indicator & mask1]\n",
    "print(STAGE2)"
   ]
  },
  {
   "cell_type": "code",
   "execution_count": 18,
   "id": "1ba40460",
   "metadata": {},
   "outputs": [
    {
     "data": {
      "text/plain": [
       "Population, total                                                                          13484\n",
       "Population growth (annual %)                                                               13442\n",
       "Urban population (% of total)                                                              13415\n",
       "Rural population (% of total population)                                                   13415\n",
       "Urban population                                                                           13374\n",
       "Rural population                                                                           13374\n",
       "Urban population growth (annual %)                                                         13337\n",
       "Surface area (sq. km)                                                                      13090\n",
       "Land area (sq. km)                                                                         13086\n",
       "Rural population growth (annual %)                                                         13061\n",
       "Population density (people per sq. km of land area)                                        12988\n",
       "Death rate, crude (per 1,000 people)                                                       12486\n",
       "Birth rate, crude (per 1,000 people)                                                       12485\n",
       "Adolescent fertility rate (births per 1,000 women ages 15-19)                              12485\n",
       "Population, ages 15-64 (% of total)                                                        12426\n",
       "Population, ages 0-14 (% of total)                                                         12426\n",
       "Population, female (% of total)                                                            12426\n",
       "Population ages 65 and above (% of total)                                                  12426\n",
       "Age dependency ratio, young (% of working-age population)                                  12423\n",
       "Age dependency ratio (% of working-age population)                                         12423\n",
       "Age dependency ratio, old (% of working-age population)                                    12423\n",
       "Life expectancy at birth, total (years)                                                    12304\n",
       "Life expectancy at birth, female (years)                                                   12304\n",
       "Life expectancy at birth, male (years)                                                     12304\n",
       "Fertility rate, total (births per woman)                                                   12266\n",
       "Survival to age 65, female (% of cohort)                                                   12258\n",
       "Survival to age 65, male (% of cohort)                                                     12258\n",
       "Mortality rate, adult, male (per 1,000 male adults)                                        11939\n",
       "Mortality rate, adult, female (per 1,000 female adults)                                    11939\n",
       "Agricultural land (sq. km)                                                                 11751\n",
       "Food production index (2004-2006 = 100)                                                    11669\n",
       "Agricultural land (% of land area)                                                         11645\n",
       "Livestock production index (2004-2006 = 100)                                               11626\n",
       "Arable land (% of land area)                                                               11568\n",
       "Crop production index (2004-2006 = 100)                                                    11563\n",
       "Arable land (hectares per person)                                                          11545\n",
       "Merchandise exports (current US$)                                                          11248\n",
       "Mortality rate, under-5 (per 1,000)                                                        11201\n",
       "Mortality rate, infant (per 1,000 live births)                                             11201\n",
       "Merchandise imports (current US$)                                                          11193\n",
       "Permanent cropland (% of land area)                                                        10909\n",
       "CO2 emissions from solid fuel consumption (% of total)                                     10747\n",
       "CO2 emissions from gaseous fuel consumption (% of total)                                   10741\n",
       "CO2 emissions from liquid fuel consumption (% of total)                                    10740\n",
       "CO2 emissions (kt)                                                                         10602\n",
       "CO2 emissions (metric tons per capita)                                                     10599\n",
       "CO2 emissions from liquid fuel consumption (kt)                                            10583\n",
       "Merchandise exports by the reporting economy (current US$)                                 10384\n",
       "Merchandise exports by the reporting economy, residual (% of total merchandise exports)    10384\n",
       "Cereal production (metric tons)                                                            10382\n",
       "Land under cereal production (hectares)                                                    10382\n",
       "Merchandise imports by the reporting economy (current US$)                                 10373\n",
       "Merchandise imports by the reporting economy, residual (% of total merchandise imports)    10373\n",
       "GDP at market prices (current US$)                                                         10346\n",
       "GDP per capita (current US$)                                                               10343\n",
       "Cereal yield (kg per hectare)                                                              10265\n",
       "Number of under-five deaths                                                                10170\n",
       "Number of infant deaths                                                                    10170\n",
       "Merchandise imports from high-income economies (% of total merchandise imports)            10087\n",
       "CO2 emissions from solid fuel consumption (kt)                                             10070\n",
       "Name: IndicatorName, dtype: int64"
      ]
     },
     "execution_count": 18,
     "metadata": {},
     "output_type": "execute_result"
    }
   ],
   "source": [
    "# Top 60 indicators for with count of data points.\n",
    "data_counts = data['IndicatorName'].value_counts()\n",
    "data_counts[:60]"
   ]
  },
  {
   "cell_type": "code",
   "execution_count": 19,
   "id": "93754bab",
   "metadata": {},
   "outputs": [
    {
     "data": {
      "text/plain": [
       "Merchandise trade (% of GDP)                                                                                    10008\n",
       "CO2 emissions from gaseous fuel consumption (kt)                                                                10004\n",
       "GDP at market prices (constant 2005 US$)                                                                         9954\n",
       "GDP per capita (constant 2005 US$)                                                                               9951\n",
       "GDP growth (annual %)                                                                                            9939\n",
       "GDP per capita growth (annual %)                                                                                 9936\n",
       "Arable land (hectares)                                                                                           9922\n",
       "Mobile cellular subscriptions (per 100 people)                                                                   9917\n",
       "Mobile cellular subscriptions                                                                                    9917\n",
       "Merchandise imports from developing economies in South Asia (% of total merchandise imports)                     9914\n",
       "GNI (current US$)                                                                                                9891\n",
       "Inflation, GDP deflator (annual %)                                                                               9862\n",
       "Population in the largest city (% of urban population)                                                           9782\n",
       "DEC alternative conversion factor (LCU per US$)                                                                  9742\n",
       "External balance on goods and services (% of GDP)                                                                9551\n",
       "Exports of goods and services (% of GDP)                                                                         9551\n",
       "Imports of goods and services (% of GDP)                                                                         9551\n",
       "Trade (% of GDP)                                                                                                 9551\n",
       "Merchandise imports from developing economies in Middle East & North Africa (% of total merchandise imports)     9528\n",
       "Net official development assistance and official aid received (constant 2012 US$)                                9505\n",
       "Net official development assistance and official aid received (current US$)                                      9503\n",
       "Exports of goods and services (current US$)                                                                      9473\n",
       "Fixed telephone subscriptions (per 100 people)                                                                   9465\n",
       "Fixed telephone subscriptions                                                                                    9465\n",
       "Merchandise exports to developing economies in South Asia (% of total merchandise exports)                       9441\n",
       "Adjusted savings: mineral depletion (current US$)                                                                9416\n",
       "Merchandise exports to developing economies in Middle East & North Africa (% of total merchandise exports)       9397\n",
       "Imports of goods and services (current US$)                                                                      9387\n",
       "Gross national expenditure (current US$)                                                                         9380\n",
       "Adjusted savings: energy depletion (current US$)                                                                 9373\n",
       "Net bilateral aid flows from DAC donors, Total (current US$)                                                     9340\n",
       "Merchandise exports to economies in the Arab World (% of total merchandise exports)                              9288\n",
       "Merchandise imports from economies in the Arab World (% of total merchandise imports)                            9272\n",
       "General government final consumption expenditure (% of GDP)                                                      9201\n",
       "GNI, Atlas method (current US$)                                                                                  9129\n",
       "GNI per capita, Atlas method (current US$)                                                                       9128\n",
       "General government final consumption expenditure (current US$)                                                   9116\n",
       "Official entrance age to primary education (years)                                                               9101\n",
       "Theoretical duration of primary education (years)                                                                9101\n",
       "Net official development assistance received (constant 2012 US$)                                                 9087\n",
       "Net official development assistance received (current US$)                                                       9087\n",
       "Net ODA received per capita (current US$)                                                                        9084\n",
       "Gross capital formation (% of GDP)                                                                               9025\n",
       "Theoretical duration of secondary education (years)                                                              8996\n",
       "GDP (current LCU)                                                                                                8996\n",
       "GDP per capita (current LCU)                                                                                     8993\n",
       "Official entrance age to lower secondary education (years)                                                       8958\n",
       "Mineral rents (% of GDP)                                                                                         8939\n",
       "Gross domestic savings (% of GDP)                                                                                8927\n",
       "Name: IndicatorName, dtype: int64"
      ]
     },
     "execution_count": 19,
     "metadata": {},
     "output_type": "execute_result"
    }
   ],
   "source": [
    "# Indicators from 61-110 with count of data points.\n",
    "data_counts = data['IndicatorName'].value_counts()\n",
    "data_counts[61:110]"
   ]
  },
  {
   "cell_type": "markdown",
   "id": "d4f77aa0",
   "metadata": {},
   "source": [
    "### > Exploring data sets for other countries."
   ]
  },
  {
   "cell_type": "code",
   "execution_count": 20,
   "id": "27c91346",
   "metadata": {},
   "outputs": [
    {
     "data": {
      "text/plain": [
       "MEX    37244\n",
       "COL    37227\n",
       "PHL    36912\n",
       "PER    36815\n",
       "CRI    36457\n",
       "THA    36355\n",
       "MAR    36275\n",
       "IDN    36252\n",
       "MYS    35874\n",
       "TUR    35819\n",
       "Name: CountryCode, dtype: int64"
      ]
     },
     "execution_count": 20,
     "metadata": {},
     "output_type": "execute_result"
    }
   ],
   "source": [
    "# Top ten CountryCodes with count of data points.\n",
    "data_counts_cc = data['CountryCode'].value_counts()\n",
    "data_counts_cc[:10]"
   ]
  },
  {
   "cell_type": "code",
   "execution_count": 21,
   "id": "ba2da274",
   "metadata": {},
   "outputs": [
    {
     "data": {
      "text/plain": [
       "2010    187206\n",
       "2005    180506\n",
       "2007    180354\n",
       "2008    179825\n",
       "2009    178578\n",
       "2006    177119\n",
       "2011    176063\n",
       "2012    175147\n",
       "2004    158011\n",
       "2013    156876\n",
       "Name: Year, dtype: int64"
      ]
     },
     "execution_count": 21,
     "metadata": {},
     "output_type": "execute_result"
    }
   ],
   "source": [
    "# Top 10 for which data points are present with count of data points.\n",
    "data_counts_yy = data['Year'].value_counts()\n",
    "data_counts_yy[:10]"
   ]
  },
  {
   "cell_type": "markdown",
   "id": "5353f878",
   "metadata": {},
   "source": [
    "### > After Exploring the data, the indicator that was chosen was 'Research and development expenditure (% of GDP)'.\n"
   ]
  },
  {
   "cell_type": "markdown",
   "id": "91ef52b1",
   "metadata": {},
   "source": [
    "#### Now further exploration,mining and isolation of the data is done explicilty related to the above choosen Indicator for USA."
   ]
  },
  {
   "cell_type": "code",
   "execution_count": 22,
   "id": "1278fd66",
   "metadata": {},
   "outputs": [
    {
     "name": "stdout",
     "output_type": "stream",
     "text": [
      "           CountryName CountryCode  \\\n",
      "2749114  United States         USA   \n",
      "2885408  United States         USA   \n",
      "3022766  United States         USA   \n",
      "3164694  United States         USA   \n",
      "3319373  United States         USA   \n",
      "3470018  United States         USA   \n",
      "3624662  United States         USA   \n",
      "3778407  United States         USA   \n",
      "3936163  United States         USA   \n",
      "4115825  United States         USA   \n",
      "4292991  United States         USA   \n",
      "4473332  United States         USA   \n",
      "4653167  United States         USA   \n",
      "4831835  United States         USA   \n",
      "5018573  United States         USA   \n",
      "5195210  United States         USA   \n",
      "5370378  United States         USA   \n",
      "\n",
      "                                           IndicatorName      IndicatorCode  \\\n",
      "2749114  Research and development expenditure (% of GDP)  GB.XPD.RSDV.GD.ZS   \n",
      "2885408  Research and development expenditure (% of GDP)  GB.XPD.RSDV.GD.ZS   \n",
      "3022766  Research and development expenditure (% of GDP)  GB.XPD.RSDV.GD.ZS   \n",
      "3164694  Research and development expenditure (% of GDP)  GB.XPD.RSDV.GD.ZS   \n",
      "3319373  Research and development expenditure (% of GDP)  GB.XPD.RSDV.GD.ZS   \n",
      "3470018  Research and development expenditure (% of GDP)  GB.XPD.RSDV.GD.ZS   \n",
      "3624662  Research and development expenditure (% of GDP)  GB.XPD.RSDV.GD.ZS   \n",
      "3778407  Research and development expenditure (% of GDP)  GB.XPD.RSDV.GD.ZS   \n",
      "3936163  Research and development expenditure (% of GDP)  GB.XPD.RSDV.GD.ZS   \n",
      "4115825  Research and development expenditure (% of GDP)  GB.XPD.RSDV.GD.ZS   \n",
      "4292991  Research and development expenditure (% of GDP)  GB.XPD.RSDV.GD.ZS   \n",
      "4473332  Research and development expenditure (% of GDP)  GB.XPD.RSDV.GD.ZS   \n",
      "4653167  Research and development expenditure (% of GDP)  GB.XPD.RSDV.GD.ZS   \n",
      "4831835  Research and development expenditure (% of GDP)  GB.XPD.RSDV.GD.ZS   \n",
      "5018573  Research and development expenditure (% of GDP)  GB.XPD.RSDV.GD.ZS   \n",
      "5195210  Research and development expenditure (% of GDP)  GB.XPD.RSDV.GD.ZS   \n",
      "5370378  Research and development expenditure (% of GDP)  GB.XPD.RSDV.GD.ZS   \n",
      "\n",
      "         Year    Value  \n",
      "2749114  1996  2.44182  \n",
      "2885408  1997  2.47091  \n",
      "3022766  1998  2.49675  \n",
      "3164694  1999  2.54174  \n",
      "3319373  2000  2.62050  \n",
      "3470018  2001  2.63832  \n",
      "3624662  2002  2.54968  \n",
      "3778407  2003  2.55287  \n",
      "3936163  2004  2.48995  \n",
      "4115825  2005  2.50599  \n",
      "4292991  2006  2.55002  \n",
      "4473332  2007  2.62692  \n",
      "4653167  2008  2.76683  \n",
      "4831835  2009  2.81578  \n",
      "5018573  2010  2.73716  \n",
      "5195210  2011  2.76547  \n",
      "5370378  2012  2.80604  \n"
     ]
    }
   ],
   "source": [
    "#All data for USA for Indicator containing keyword 'Research and '\n",
    "indic = 'Research and '\n",
    "indiccntry = 'USA'\n",
    "\n",
    "maska = data['IndicatorName'].str.contains(indic)\n",
    "maskb = data['CountryCode'].str.contains(indiccntry)\n",
    "\n",
    "stageF = data[maska & maskb]\n",
    "print(stageF)"
   ]
  },
  {
   "cell_type": "code",
   "execution_count": 23,
   "id": "02696990",
   "metadata": {},
   "outputs": [
    {
     "name": "stdout",
     "output_type": "stream",
     "text": [
      "           CountryName CountryCode  \\\n",
      "2749114  United States         USA   \n",
      "2885408  United States         USA   \n",
      "3022766  United States         USA   \n",
      "3164694  United States         USA   \n",
      "3319373  United States         USA   \n",
      "\n",
      "                                           IndicatorName      IndicatorCode  \\\n",
      "2749114  Research and development expenditure (% of GDP)  GB.XPD.RSDV.GD.ZS   \n",
      "2885408  Research and development expenditure (% of GDP)  GB.XPD.RSDV.GD.ZS   \n",
      "3022766  Research and development expenditure (% of GDP)  GB.XPD.RSDV.GD.ZS   \n",
      "3164694  Research and development expenditure (% of GDP)  GB.XPD.RSDV.GD.ZS   \n",
      "3319373  Research and development expenditure (% of GDP)  GB.XPD.RSDV.GD.ZS   \n",
      "\n",
      "         Year    Value  \n",
      "2749114  1996  2.44182  \n",
      "2885408  1997  2.47091  \n",
      "3022766  1998  2.49675  \n",
      "3164694  1999  2.54174  \n",
      "3319373  2000  2.62050  \n"
     ]
    }
   ],
   "source": [
    "# top 5 data points for USA with Indicator containing keyword 'Research and development expenditure'\n",
    "is_indicator = data['IndicatorName'].str.contains('Research and development expenditure')\n",
    "\n",
    "hist_country_code = 'USA'\n",
    "mask1 = data['CountryCode'].str.contains(hist_country_code)\n",
    "\n",
    "STAGE2 = data[is_indicator & mask1][:5]\n",
    "print(STAGE2)"
   ]
  },
  {
   "cell_type": "markdown",
   "id": "e3e5ca72",
   "metadata": {},
   "source": [
    "# Data Visualisation: Matplotlib"
   ]
  },
  {
   "cell_type": "markdown",
   "id": "f29a14b1",
   "metadata": {},
   "source": [
    "### Let's see how Indicator Value have changed over time using MatplotLib."
   ]
  },
  {
   "cell_type": "code",
   "execution_count": 24,
   "id": "9f149efb",
   "metadata": {},
   "outputs": [
    {
     "data": {
      "image/png": "[encoded data removed]",
      "text/plain": [
       "<Figure size 432x288 with 1 Axes>"
      ]
     },
     "metadata": {
      "needs_background": "light"
     },
     "output_type": "display_data"
    }
   ],
   "source": [
    "# Graphical representation for USA\n",
    "# Y AXIS - VALUES\n",
    "# X AXIS - YEARS\n",
    "years = stageF['Year'].values\n",
    "\n",
    "randd = stageF['Value'].values\n",
    "\n",
    "plt.bar(years,randd)\n",
    "plt.show()"
   ]
  },
  {
   "cell_type": "code",
   "execution_count": 25,
   "id": "914c66b7",
   "metadata": {},
   "outputs": [
    {
     "data": {
      "image/png": "[encoded data removed]",
      "text/plain": [
       "<Figure size 432x288 with 1 Axes>"
      ]
     },
     "metadata": {
      "needs_background": "light"
     },
     "output_type": "display_data"
    }
   ],
   "source": [
    "# Graphical representation for USA\n",
    "# LINE GRAPH\n",
    "plt.plot(stageF['Year'].values, stageF['Value'].values)\n",
    "\n",
    "#Lable the axes\n",
    "plt.xlabel('Year')\n",
    "plt.ylabel(stageF['IndicatorName'].iloc[0])\n",
    "\n",
    "#Lable the figure\n",
    "plt.title('Research & Development Expend.(USA)')\n",
    "\n",
    "plt.axis([1996,2012,2.2,3])\n",
    "plt.show()"
   ]
  },
  {
   "cell_type": "code",
   "execution_count": 26,
   "id": "7f836623",
   "metadata": {},
   "outputs": [
    {
     "name": "stdout",
     "output_type": "stream",
     "text": [
      "17\n"
     ]
    }
   ],
   "source": [
    "histdata = stageF['Value'].values\n",
    "print(len(histdata))"
   ]
  },
  {
   "cell_type": "code",
   "execution_count": 27,
   "id": "f6a44df5",
   "metadata": {},
   "outputs": [
    {
     "data": {
      "image/png": "[encoded data removed]",
      "text/plain": [
       "<Figure size 432x288 with 1 Axes>"
      ]
     },
     "metadata": {
      "needs_background": "light"
     },
     "output_type": "display_data"
    }
   ],
   "source": [
    "# Graphical representation for USA\n",
    "#BAR GRAPH\n",
    "plt.hist(histdata, 10, density=False, facecolor='green')\n",
    "\n",
    "plt.xlabel(stageF['IndicatorName'].iloc[0])\n",
    "plt.ylabel('# of years')\n",
    "plt.title('Histogram of R&D Exp(USA)')\n",
    "#plt.grid(True)\n",
    "plt.show()"
   ]
  },
  {
   "cell_type": "markdown",
   "id": "3629cee7",
   "metadata": {},
   "source": [
    "So the USA has many years where the Expenditure on R&D ranging from 2.30 to 2.55 (% GDP)."
   ]
  },
  {
   "cell_type": "markdown",
   "id": "f77e13c8",
   "metadata": {},
   "source": [
    "### But how do the USA's numbers relate to those of other countries?"
   ]
  },
  {
   "cell_type": "code",
   "execution_count": 28,
   "id": "63ea6e69",
   "metadata": {},
   "outputs": [
    {
     "data": {
      "text/html": [
       "<div>\n",
       "<style scoped>\n",
       "    .dataframe tbody tr th:only-of-type {\n",
       "        vertical-align: middle;\n",
       "    }\n",
       "\n",
       "    .dataframe tbody tr th {\n",
       "        vertical-align: top;\n",
       "    }\n",
       "\n",
       "    .dataframe thead th {\n",
       "        text-align: right;\n",
       "    }\n",
       "</style>\n",
       "<table border=\"1\" class=\"dataframe\">\n",
       "  <thead>\n",
       "    <tr style=\"text-align: right;\">\n",
       "      <th></th>\n",
       "      <th>CountryName</th>\n",
       "      <th>CountryCode</th>\n",
       "      <th>IndicatorName</th>\n",
       "      <th>IndicatorCode</th>\n",
       "      <th>Year</th>\n",
       "      <th>Value</th>\n",
       "    </tr>\n",
       "  </thead>\n",
       "  <tbody>\n",
       "    <tr>\n",
       "      <th>5203743</th>\n",
       "      <td>Central Europe and the Baltics</td>\n",
       "      <td>CEB</td>\n",
       "      <td>Research and development expenditure (% of GDP)</td>\n",
       "      <td>GB.XPD.RSDV.GD.ZS</td>\n",
       "      <td>2012</td>\n",
       "      <td>1.064632</td>\n",
       "    </tr>\n",
       "    <tr>\n",
       "      <th>5204344</th>\n",
       "      <td>East Asia &amp; Pacific (all income levels)</td>\n",
       "      <td>EAS</td>\n",
       "      <td>Research and development expenditure (% of GDP)</td>\n",
       "      <td>GB.XPD.RSDV.GD.ZS</td>\n",
       "      <td>2012</td>\n",
       "      <td>2.552592</td>\n",
       "    </tr>\n",
       "    <tr>\n",
       "      <th>5205118</th>\n",
       "      <td>East Asia &amp; Pacific (developing only)</td>\n",
       "      <td>EAP</td>\n",
       "      <td>Research and development expenditure (% of GDP)</td>\n",
       "      <td>GB.XPD.RSDV.GD.ZS</td>\n",
       "      <td>2012</td>\n",
       "      <td>1.897063</td>\n",
       "    </tr>\n",
       "    <tr>\n",
       "      <th>5205693</th>\n",
       "      <td>Euro area</td>\n",
       "      <td>EMU</td>\n",
       "      <td>Research and development expenditure (% of GDP)</td>\n",
       "      <td>GB.XPD.RSDV.GD.ZS</td>\n",
       "      <td>2012</td>\n",
       "      <td>2.095076</td>\n",
       "    </tr>\n",
       "    <tr>\n",
       "      <th>5206346</th>\n",
       "      <td>Europe &amp; Central Asia (all income levels)</td>\n",
       "      <td>ECS</td>\n",
       "      <td>Research and development expenditure (% of GDP)</td>\n",
       "      <td>GB.XPD.RSDV.GD.ZS</td>\n",
       "      <td>2012</td>\n",
       "      <td>1.865825</td>\n",
       "    </tr>\n",
       "  </tbody>\n",
       "</table>\n",
       "</div>"
      ],
      "text/plain": [
       "                                       CountryName CountryCode  \\\n",
       "5203743             Central Europe and the Baltics         CEB   \n",
       "5204344    East Asia & Pacific (all income levels)         EAS   \n",
       "5205118      East Asia & Pacific (developing only)         EAP   \n",
       "5205693                                  Euro area         EMU   \n",
       "5206346  Europe & Central Asia (all income levels)         ECS   \n",
       "\n",
       "                                           IndicatorName      IndicatorCode  \\\n",
       "5203743  Research and development expenditure (% of GDP)  GB.XPD.RSDV.GD.ZS   \n",
       "5204344  Research and development expenditure (% of GDP)  GB.XPD.RSDV.GD.ZS   \n",
       "5205118  Research and development expenditure (% of GDP)  GB.XPD.RSDV.GD.ZS   \n",
       "5205693  Research and development expenditure (% of GDP)  GB.XPD.RSDV.GD.ZS   \n",
       "5206346  Research and development expenditure (% of GDP)  GB.XPD.RSDV.GD.ZS   \n",
       "\n",
       "         Year     Value  \n",
       "5203743  2012  1.064632  \n",
       "5204344  2012  2.552592  \n",
       "5205118  2012  1.897063  \n",
       "5205693  2012  2.095076  \n",
       "5206346  2012  1.865825  "
      ]
     },
     "execution_count": 28,
     "metadata": {},
     "output_type": "execute_result"
    }
   ],
   "source": [
    "hist_indicators = 'Research and '\n",
    "hist_year = 2012\n",
    "\n",
    "\n",
    "mask1 = data['IndicatorName'].str.contains(hist_indicators) \n",
    "mask2 = data['Year'].isin([hist_year])\n",
    "\n",
    "randd_2012 = data[mask1 & mask2]\n",
    "randd_2012.head()\n"
   ]
  },
  {
   "cell_type": "markdown",
   "id": "6a88922f",
   "metadata": {},
   "source": [
    "For how many countries do we have the R&D Expenditure data in 2012"
   ]
  },
  {
   "cell_type": "code",
   "execution_count": 29,
   "id": "c70ccf96",
   "metadata": {},
   "outputs": [
    {
     "name": "stdout",
     "output_type": "stream",
     "text": [
      "92\n"
     ]
    }
   ],
   "source": [
    "print(len(randd_2012))"
   ]
  },
  {
   "cell_type": "code",
   "execution_count": 30,
   "id": "664cf4d5",
   "metadata": {},
   "outputs": [
    {
     "data": {
      "image/png": "[encoded data removed]",
      "text/plain": [
       "<Figure size 432x288 with 1 Axes>"
      ]
     },
     "metadata": {
      "needs_background": "light"
     },
     "output_type": "display_data"
    }
   ],
   "source": [
    "# let's plot a histogram of the R&D Expenditure by country\n",
    "fig, ax =plt.subplots()\n",
    "\n",
    "\n",
    "ax.annotate(\"USA\",\n",
    "            xy=(3,6), xycoords='data',\n",
    "            xytext=(3,15), textcoords='data',\n",
    "            arrowprops=dict(arrowstyle=\"->\",\n",
    "                            connectionstyle=\"arc3\"),)\n",
    "plt.hist(randd_2012['Value'], 10, density=False, facecolor='blue')\n",
    "\n",
    "plt.xlabel(stageF['IndicatorName'].iloc[0])\n",
    "plt.ylabel('# of Countries')\n",
    "plt.title('Histogram of R&D Expen.')\n",
    "plt.axis([0, 5, 0,30])\n",
    "plt.grid(True)\n",
    "plt.show()"
   ]
  },
  {
   "cell_type": "markdown",
   "id": "41ebc572",
   "metadata": {},
   "source": [
    "So the USA, at ~3 R&D Expenditure (% of GDP) is quite high among all countries."
   ]
  },
  {
   "cell_type": "markdown",
   "id": "8dd4ea95",
   "metadata": {},
   "source": [
    "## > Plotting indicator against GDP of USA."
   ]
  },
  {
   "cell_type": "code",
   "execution_count": 31,
   "id": "d4db55ca",
   "metadata": {},
   "outputs": [
    {
     "data": {
      "text/html": [
       "<div>\n",
       "<style scoped>\n",
       "    .dataframe tbody tr th:only-of-type {\n",
       "        vertical-align: middle;\n",
       "    }\n",
       "\n",
       "    .dataframe tbody tr th {\n",
       "        vertical-align: top;\n",
       "    }\n",
       "\n",
       "    .dataframe thead th {\n",
       "        text-align: right;\n",
       "    }\n",
       "</style>\n",
       "<table border=\"1\" class=\"dataframe\">\n",
       "  <thead>\n",
       "    <tr style=\"text-align: right;\">\n",
       "      <th></th>\n",
       "      <th>CountryName</th>\n",
       "      <th>CountryCode</th>\n",
       "      <th>IndicatorName</th>\n",
       "      <th>IndicatorCode</th>\n",
       "      <th>Year</th>\n",
       "      <th>Value</th>\n",
       "    </tr>\n",
       "  </thead>\n",
       "  <tbody>\n",
       "    <tr>\n",
       "      <th>22282</th>\n",
       "      <td>United States</td>\n",
       "      <td>USA</td>\n",
       "      <td>GDP per capita (constant 2005 US$)</td>\n",
       "      <td>NY.GDP.PCAP.KD</td>\n",
       "      <td>1960</td>\n",
       "      <td>15482.707760</td>\n",
       "    </tr>\n",
       "    <tr>\n",
       "      <th>48759</th>\n",
       "      <td>United States</td>\n",
       "      <td>USA</td>\n",
       "      <td>GDP per capita (constant 2005 US$)</td>\n",
       "      <td>NY.GDP.PCAP.KD</td>\n",
       "      <td>1961</td>\n",
       "      <td>15578.409657</td>\n",
       "    </tr>\n",
       "  </tbody>\n",
       "</table>\n",
       "</div>"
      ],
      "text/plain": [
       "         CountryName CountryCode                       IndicatorName  \\\n",
       "22282  United States         USA  GDP per capita (constant 2005 US$)   \n",
       "48759  United States         USA  GDP per capita (constant 2005 US$)   \n",
       "\n",
       "        IndicatorCode  Year         Value  \n",
       "22282  NY.GDP.PCAP.KD  1960  15482.707760  \n",
       "48759  NY.GDP.PCAP.KD  1961  15578.409657  "
      ]
     },
     "execution_count": 31,
     "metadata": {},
     "output_type": "execute_result"
    }
   ],
   "source": [
    "hist_indicator  = 'GDP per capita \\(constant 2005'\n",
    "hist_country = 'USA'\n",
    "\n",
    "mask1 = mask1 = data['IndicatorName'].str.contains(hist_indicator) \n",
    "mask2 = data['CountryCode'].str.contains(hist_country)\n",
    "\n",
    "gdp_stage = data[mask1 & mask2]\n",
    "\n",
    "gdp_stage.head(2)"
   ]
  },
  {
   "cell_type": "code",
   "execution_count": 32,
   "id": "147b4957",
   "metadata": {},
   "outputs": [
    {
     "data": {
      "text/html": [
       "<div>\n",
       "<style scoped>\n",
       "    .dataframe tbody tr th:only-of-type {\n",
       "        vertical-align: middle;\n",
       "    }\n",
       "\n",
       "    .dataframe tbody tr th {\n",
       "        vertical-align: top;\n",
       "    }\n",
       "\n",
       "    .dataframe thead th {\n",
       "        text-align: right;\n",
       "    }\n",
       "</style>\n",
       "<table border=\"1\" class=\"dataframe\">\n",
       "  <thead>\n",
       "    <tr style=\"text-align: right;\">\n",
       "      <th></th>\n",
       "      <th>CountryName</th>\n",
       "      <th>CountryCode</th>\n",
       "      <th>IndicatorName</th>\n",
       "      <th>IndicatorCode</th>\n",
       "      <th>Year</th>\n",
       "      <th>Value</th>\n",
       "    </tr>\n",
       "  </thead>\n",
       "  <tbody>\n",
       "    <tr>\n",
       "      <th>2749114</th>\n",
       "      <td>United States</td>\n",
       "      <td>USA</td>\n",
       "      <td>Research and development expenditure (% of GDP)</td>\n",
       "      <td>GB.XPD.RSDV.GD.ZS</td>\n",
       "      <td>1996</td>\n",
       "      <td>2.44182</td>\n",
       "    </tr>\n",
       "    <tr>\n",
       "      <th>2885408</th>\n",
       "      <td>United States</td>\n",
       "      <td>USA</td>\n",
       "      <td>Research and development expenditure (% of GDP)</td>\n",
       "      <td>GB.XPD.RSDV.GD.ZS</td>\n",
       "      <td>1997</td>\n",
       "      <td>2.47091</td>\n",
       "    </tr>\n",
       "  </tbody>\n",
       "</table>\n",
       "</div>"
      ],
      "text/plain": [
       "           CountryName CountryCode  \\\n",
       "2749114  United States         USA   \n",
       "2885408  United States         USA   \n",
       "\n",
       "                                           IndicatorName      IndicatorCode  \\\n",
       "2749114  Research and development expenditure (% of GDP)  GB.XPD.RSDV.GD.ZS   \n",
       "2885408  Research and development expenditure (% of GDP)  GB.XPD.RSDV.GD.ZS   \n",
       "\n",
       "         Year    Value  \n",
       "2749114  1996  2.44182  \n",
       "2885408  1997  2.47091  "
      ]
     },
     "execution_count": 32,
     "metadata": {},
     "output_type": "execute_result"
    }
   ],
   "source": [
    "stageF.head(2)"
   ]
  },
  {
   "cell_type": "code",
   "execution_count": 33,
   "id": "ed21b69f",
   "metadata": {},
   "outputs": [
    {
     "data": {
      "text/plain": [
       "<function matplotlib.pyplot.show(close=None, block=None)>"
      ]
     },
     "execution_count": 33,
     "metadata": {},
     "output_type": "execute_result"
    },
    {
     "data": {
      "image/png": "[encoded data removed]",
      "text/plain": [
       "<Figure size 432x288 with 1 Axes>"
      ]
     },
     "metadata": {
      "needs_background": "light"
     },
     "output_type": "display_data"
    }
   ],
   "source": [
    "plt.plot(gdp_stage['Year'].values, gdp_stage['Value'].values)\n",
    "\n",
    "plt.xlabel('Year')\n",
    "plt.ylabel(gdp_stage['IndicatorName'].iloc[0])\n",
    "\n",
    "plt.title('GDP per capita USA')\n",
    "plt.show"
   ]
  },
  {
   "cell_type": "markdown",
   "id": "1153ee83",
   "metadata": {},
   "source": [
    "We have 7 extra years of GDP data, so let's trim those off so the scatterplot has equal length arrays to compare (this is actually required by scatterplot)"
   ]
  },
  {
   "cell_type": "code",
   "execution_count": 34,
   "id": "9c039a1b",
   "metadata": {},
   "outputs": [
    {
     "name": "stdout",
     "output_type": "stream",
     "text": [
      "GDP Min Year =  1960 Max: 2014\n",
      "R&D Min Year = 1996 Max: 2012\n"
     ]
    }
   ],
   "source": [
    "print(\"GDP Min Year = \",gdp_stage['Year'].min(),\"Max:\",gdp_stage['Year'].max())\n",
    "print(\"R&D Min Year =\", stageF['Year'].min(), \"Max:\",stageF['Year'].max())"
   ]
  },
  {
   "cell_type": "code",
   "execution_count": 35,
   "id": "da443021",
   "metadata": {},
   "outputs": [
    {
     "name": "stdout",
     "output_type": "stream",
     "text": [
      "19\n",
      "17\n"
     ]
    }
   ],
   "source": [
    "gdp_stage_trunc = gdp_stage[gdp_stage['Year']>1995] \n",
    "\n",
    "print(len(gdp_stage_trunc))\n",
    "print(len(stageF))"
   ]
  },
  {
   "cell_type": "code",
   "execution_count": 36,
   "id": "eca8dbd1",
   "metadata": {},
   "outputs": [
    {
     "name": "stdout",
     "output_type": "stream",
     "text": [
      "GDP Min Year =  1996 Max: 2014\n"
     ]
    }
   ],
   "source": [
    "print(\"GDP Min Year = \",gdp_stage_trunc['Year'].min(),\"Max:\",gdp_stage_trunc['Year'].max())"
   ]
  },
  {
   "cell_type": "code",
   "execution_count": 37,
   "id": "ac5ea5f6",
   "metadata": {},
   "outputs": [],
   "source": [
    "gdp_stage_trunc1 = gdp_stage_trunc[gdp_stage_trunc['Year']<2013]"
   ]
  },
  {
   "cell_type": "code",
   "execution_count": 38,
   "id": "229d5426",
   "metadata": {},
   "outputs": [
    {
     "name": "stdout",
     "output_type": "stream",
     "text": [
      "GDP Min Year =  1996 Max: 2012\n",
      "R&D Min Year = 1996 Max: 2012\n"
     ]
    }
   ],
   "source": [
    "print(\"GDP Min Year = \",gdp_stage_trunc1['Year'].min(),\"Max:\",gdp_stage_trunc1['Year'].max())\n",
    "print(\"R&D Min Year =\", stageF['Year'].min(), \"Max:\",stageF['Year'].max())"
   ]
  },
  {
   "cell_type": "code",
   "execution_count": 39,
   "id": "02a3e059",
   "metadata": {},
   "outputs": [
    {
     "data": {
      "image/png": "[encoded data removed]",
      "text/plain": [
       "<Figure size 432x288 with 1 Axes>"
      ]
     },
     "metadata": {
      "needs_background": "light"
     },
     "output_type": "display_data"
    }
   ],
   "source": [
    "#Scatter Plot for USA \n",
    "%matplotlib inline\n",
    "import matplotlib.pyplot as plt\n",
    "\n",
    "fig, axis = plt.subplots()\n",
    "# Grid lines, Xticks, Xlabel, Ylabel\n",
    "\n",
    "axis.yaxis.grid(True)\n",
    "axis.set_title('R&D Expend VS GDP(per capita)',fontsize=10)\n",
    "axis.set_xlabel(gdp_stage_trunc1['IndicatorName'].iloc[0],fontsize=10)\n",
    "axis.set_ylabel(stageF['IndicatorName'].iloc[0],fontsize=10)\n",
    "\n",
    "X = gdp_stage_trunc1['Value']\n",
    "Y = stageF['Value']\n",
    "\n",
    "axis.scatter(X, Y)\n",
    "plt.show()"
   ]
  },
  {
   "cell_type": "code",
   "execution_count": 40,
   "id": "cebd73f1",
   "metadata": {},
   "outputs": [
    {
     "data": {
      "text/plain": [
       "array([[1.        , 0.62453068],\n",
       "       [0.62453068, 1.        ]])"
      ]
     },
     "execution_count": 40,
     "metadata": {},
     "output_type": "execute_result"
    }
   ],
   "source": [
    "np.corrcoef(gdp_stage_trunc1['Value'],stageF['Value'])"
   ]
  },
  {
   "cell_type": "markdown",
   "id": "839c1f17",
   "metadata": {},
   "source": [
    "The correlation that we got for the GDP of USA and the Indicator chosen is around 0.62 which is moderate. "
   ]
  },
  {
   "cell_type": "markdown",
   "id": "bfd36f56",
   "metadata": {},
   "source": [
    "## > Exploring the data for INDIA taking the same Indicator into considration."
   ]
  },
  {
   "cell_type": "code",
   "execution_count": 41,
   "id": "12ce72ef",
   "metadata": {},
   "outputs": [
    {
     "name": "stdout",
     "output_type": "stream",
     "text": [
      "        CountryName CountryCode  \\\n",
      "2686118       India         IND   \n",
      "2821560       India         IND   \n",
      "2958530       India         IND   \n",
      "3097854       India         IND   \n",
      "3246253       India         IND   \n",
      "3398556       India         IND   \n",
      "3551183       India         IND   \n",
      "3705418       India         IND   \n",
      "3860782       India         IND   \n",
      "4030343       India         IND   \n",
      "4208877       India         IND   \n",
      "4387715       India         IND   \n",
      "4568036       India         IND   \n",
      "4747160       India         IND   \n",
      "4930007       India         IND   \n",
      "5111780       India         IND   \n",
      "\n",
      "                                           IndicatorName      IndicatorCode  \\\n",
      "2686118  Research and development expenditure (% of GDP)  GB.XPD.RSDV.GD.ZS   \n",
      "2821560  Research and development expenditure (% of GDP)  GB.XPD.RSDV.GD.ZS   \n",
      "2958530  Research and development expenditure (% of GDP)  GB.XPD.RSDV.GD.ZS   \n",
      "3097854  Research and development expenditure (% of GDP)  GB.XPD.RSDV.GD.ZS   \n",
      "3246253  Research and development expenditure (% of GDP)  GB.XPD.RSDV.GD.ZS   \n",
      "3398556  Research and development expenditure (% of GDP)  GB.XPD.RSDV.GD.ZS   \n",
      "3551183  Research and development expenditure (% of GDP)  GB.XPD.RSDV.GD.ZS   \n",
      "3705418  Research and development expenditure (% of GDP)  GB.XPD.RSDV.GD.ZS   \n",
      "3860782  Research and development expenditure (% of GDP)  GB.XPD.RSDV.GD.ZS   \n",
      "4030343  Research and development expenditure (% of GDP)  GB.XPD.RSDV.GD.ZS   \n",
      "4208877  Research and development expenditure (% of GDP)  GB.XPD.RSDV.GD.ZS   \n",
      "4387715  Research and development expenditure (% of GDP)  GB.XPD.RSDV.GD.ZS   \n",
      "4568036  Research and development expenditure (% of GDP)  GB.XPD.RSDV.GD.ZS   \n",
      "4747160  Research and development expenditure (% of GDP)  GB.XPD.RSDV.GD.ZS   \n",
      "4930007  Research and development expenditure (% of GDP)  GB.XPD.RSDV.GD.ZS   \n",
      "5111780  Research and development expenditure (% of GDP)  GB.XPD.RSDV.GD.ZS   \n",
      "\n",
      "         Year    Value  \n",
      "2686118  1996  0.62804  \n",
      "2821560  1997  0.67485  \n",
      "2958530  1998  0.69166  \n",
      "3097854  1999  0.71165  \n",
      "3246253  2000  0.74395  \n",
      "3398556  2001  0.72323  \n",
      "3551183  2002  0.71316  \n",
      "3705418  2003  0.70689  \n",
      "3860782  2004  0.74385  \n",
      "4030343  2005  0.81044  \n",
      "4208877  2006  0.79722  \n",
      "4387715  2007  0.79080  \n",
      "4568036  2008  0.84108  \n",
      "4747160  2009  0.81881  \n",
      "4930007  2010  0.79718  \n",
      "5111780  2011  0.82224  \n"
     ]
    }
   ],
   "source": [
    "# top 5 data points for India with Indicator containing keyword 'Research and development expenditure'\n",
    "is_indicator = data['IndicatorName'].str.contains('Research and development expenditure')\n",
    "\n",
    "hist_country_code = 'IND'\n",
    "mask1 = data['CountryCode'].str.contains(hist_country_code)\n",
    "\n",
    "STAGE2 = data[is_indicator & mask1]\n",
    "print(STAGE2)"
   ]
  },
  {
   "cell_type": "code",
   "execution_count": 42,
   "id": "2cdf35d3",
   "metadata": {},
   "outputs": [
    {
     "name": "stdout",
     "output_type": "stream",
     "text": [
      "        CountryName CountryCode                              IndicatorName  \\\n",
      "4387724       India         IND  Scientific and technical journal articles   \n",
      "4568045       India         IND  Scientific and technical journal articles   \n",
      "4747171       India         IND  Scientific and technical journal articles   \n",
      "4930017       India         IND  Scientific and technical journal articles   \n",
      "5111791       India         IND  Scientific and technical journal articles   \n",
      "\n",
      "          IndicatorCode  Year    Value  \n",
      "4387724  IP.JRN.ARTC.SC  2007  18202.9  \n",
      "4568045  IP.JRN.ARTC.SC  2008  18987.5  \n",
      "4747171  IP.JRN.ARTC.SC  2009  19924.3  \n",
      "4930017  IP.JRN.ARTC.SC  2010  20881.8  \n",
      "5111791  IP.JRN.ARTC.SC  2011  22480.5  \n"
     ]
    }
   ],
   "source": [
    "# last 5 data points related to India  with Indicator containing keyword 'Scientific and technical'\n",
    "is_indicator = data['IndicatorName'].str.contains('Scientific and technical')\n",
    "\n",
    "hist_country_code = 'IND'\n",
    "mask1 = data['CountryCode'].str.contains(hist_country_code)\n",
    "\n",
    "STAGE3 = data[is_indicator & mask1][-5:]\n",
    "print(STAGE3)"
   ]
  },
  {
   "cell_type": "markdown",
   "id": "d2d7739d",
   "metadata": {},
   "source": [
    "#### Let's see how Indicator Value have changed over time using MatplotLib."
   ]
  },
  {
   "cell_type": "code",
   "execution_count": 43,
   "id": "3b803de3",
   "metadata": {},
   "outputs": [
    {
     "data": {
      "image/png": "[encoded data removed]",
      "text/plain": [
       "<Figure size 432x288 with 1 Axes>"
      ]
     },
     "metadata": {
      "needs_background": "light"
     },
     "output_type": "display_data"
    }
   ],
   "source": [
    "# get the years\n",
    "years = STAGE2['Year'].values\n",
    "# get the values \n",
    "randd2 = STAGE2['Value'].values\n",
    "\n",
    "# create\n",
    "plt.bar(years,randd2)\n",
    "plt.show()"
   ]
  },
  {
   "cell_type": "code",
   "execution_count": 44,
   "id": "ce68412a",
   "metadata": {},
   "outputs": [
    {
     "data": {
      "image/png": "[encoded data removed]",
      "text/plain": [
       "<Figure size 432x288 with 1 Axes>"
      ]
     },
     "metadata": {
      "needs_background": "light"
     },
     "output_type": "display_data"
    }
   ],
   "source": [
    "# switching to a line plot\n",
    "plt.plot(STAGE2['Year'].values, STAGE2['Value'].values)\n",
    "\n",
    "# Label the axes\n",
    "plt.xlabel('Year')\n",
    "plt.ylabel(STAGE2['IndicatorName'].iloc[0])\n",
    "\n",
    "#label the figure\n",
    "plt.title('R&D Expenditure in IND')\n",
    "\n",
    "# to make it more honest,we start the y axis at 0\n",
    "plt.axis([1996, 2011,0,1])\n",
    "\n",
    "plt.show()"
   ]
  },
  {
   "cell_type": "code",
   "execution_count": 45,
   "id": "0a525a3d",
   "metadata": {},
   "outputs": [
    {
     "name": "stdout",
     "output_type": "stream",
     "text": [
      "16\n"
     ]
    }
   ],
   "source": [
    "hist_data = STAGE2['Value'].values\n",
    "print(len(hist_data))"
   ]
  },
  {
   "cell_type": "code",
   "execution_count": 46,
   "id": "6f449166",
   "metadata": {},
   "outputs": [
    {
     "data": {
      "text/html": [
       "<div>\n",
       "<style scoped>\n",
       "    .dataframe tbody tr th:only-of-type {\n",
       "        vertical-align: middle;\n",
       "    }\n",
       "\n",
       "    .dataframe tbody tr th {\n",
       "        vertical-align: top;\n",
       "    }\n",
       "\n",
       "    .dataframe thead th {\n",
       "        text-align: right;\n",
       "    }\n",
       "</style>\n",
       "<table border=\"1\" class=\"dataframe\">\n",
       "  <thead>\n",
       "    <tr style=\"text-align: right;\">\n",
       "      <th></th>\n",
       "      <th>CountryName</th>\n",
       "      <th>CountryCode</th>\n",
       "      <th>IndicatorName</th>\n",
       "      <th>IndicatorCode</th>\n",
       "      <th>Year</th>\n",
       "      <th>Value</th>\n",
       "    </tr>\n",
       "  </thead>\n",
       "  <tbody>\n",
       "    <tr>\n",
       "      <th>5027715</th>\n",
       "      <td>Central Europe and the Baltics</td>\n",
       "      <td>CEB</td>\n",
       "      <td>Research and development expenditure (% of GDP)</td>\n",
       "      <td>GB.XPD.RSDV.GD.ZS</td>\n",
       "      <td>2011</td>\n",
       "      <td>0.965155</td>\n",
       "    </tr>\n",
       "    <tr>\n",
       "      <th>5028313</th>\n",
       "      <td>East Asia &amp; Pacific (all income levels)</td>\n",
       "      <td>EAS</td>\n",
       "      <td>Research and development expenditure (% of GDP)</td>\n",
       "      <td>GB.XPD.RSDV.GD.ZS</td>\n",
       "      <td>2011</td>\n",
       "      <td>2.425381</td>\n",
       "    </tr>\n",
       "    <tr>\n",
       "      <th>5029085</th>\n",
       "      <td>East Asia &amp; Pacific (developing only)</td>\n",
       "      <td>EAP</td>\n",
       "      <td>Research and development expenditure (% of GDP)</td>\n",
       "      <td>GB.XPD.RSDV.GD.ZS</td>\n",
       "      <td>2011</td>\n",
       "      <td>1.677305</td>\n",
       "    </tr>\n",
       "    <tr>\n",
       "      <th>5029643</th>\n",
       "      <td>Euro area</td>\n",
       "      <td>EMU</td>\n",
       "      <td>Research and development expenditure (% of GDP)</td>\n",
       "      <td>GB.XPD.RSDV.GD.ZS</td>\n",
       "      <td>2011</td>\n",
       "      <td>2.039949</td>\n",
       "    </tr>\n",
       "    <tr>\n",
       "      <th>5030287</th>\n",
       "      <td>Europe &amp; Central Asia (all income levels)</td>\n",
       "      <td>ECS</td>\n",
       "      <td>Research and development expenditure (% of GDP)</td>\n",
       "      <td>GB.XPD.RSDV.GD.ZS</td>\n",
       "      <td>2011</td>\n",
       "      <td>1.809189</td>\n",
       "    </tr>\n",
       "  </tbody>\n",
       "</table>\n",
       "</div>"
      ],
      "text/plain": [
       "                                       CountryName CountryCode  \\\n",
       "5027715             Central Europe and the Baltics         CEB   \n",
       "5028313    East Asia & Pacific (all income levels)         EAS   \n",
       "5029085      East Asia & Pacific (developing only)         EAP   \n",
       "5029643                                  Euro area         EMU   \n",
       "5030287  Europe & Central Asia (all income levels)         ECS   \n",
       "\n",
       "                                           IndicatorName      IndicatorCode  \\\n",
       "5027715  Research and development expenditure (% of GDP)  GB.XPD.RSDV.GD.ZS   \n",
       "5028313  Research and development expenditure (% of GDP)  GB.XPD.RSDV.GD.ZS   \n",
       "5029085  Research and development expenditure (% of GDP)  GB.XPD.RSDV.GD.ZS   \n",
       "5029643  Research and development expenditure (% of GDP)  GB.XPD.RSDV.GD.ZS   \n",
       "5030287  Research and development expenditure (% of GDP)  GB.XPD.RSDV.GD.ZS   \n",
       "\n",
       "         Year     Value  \n",
       "5027715  2011  0.965155  \n",
       "5028313  2011  2.425381  \n",
       "5029085  2011  1.677305  \n",
       "5029643  2011  2.039949  \n",
       "5030287  2011  1.809189  "
      ]
     },
     "execution_count": 46,
     "metadata": {},
     "output_type": "execute_result"
    }
   ],
   "source": [
    "hist_indicators = 'Research and '\n",
    "hist_year = 2011\n",
    "\n",
    "\n",
    "mask1 = data['IndicatorName'].str.contains(hist_indicators) \n",
    "mask2 = data['Year'].isin([hist_year])\n",
    "\n",
    "randd_2011 = data[mask1 & mask2]\n",
    "randd_2011.head()"
   ]
  },
  {
   "cell_type": "code",
   "execution_count": 47,
   "id": "617f24f4",
   "metadata": {},
   "outputs": [
    {
     "data": {
      "image/png": "[encoded data removed]",
      "text/plain": [
       "<Figure size 432x288 with 1 Axes>"
      ]
     },
     "metadata": {
      "needs_background": "light"
     },
     "output_type": "display_data"
    }
   ],
   "source": [
    "# let's plot a histogram of the R&D Expenditure by country indicating India's position.\n",
    "fig, ax =plt.subplots()\n",
    "\n",
    "\n",
    "ax.annotate(\"IND\",\n",
    "            xy=(0.82224,13), xycoords='data',\n",
    "            xytext=(1,23), textcoords='data',\n",
    "            arrowprops=dict(arrowstyle=\"->\",\n",
    "                            connectionstyle=\"arc3\"),)\n",
    "plt.hist(randd_2011['Value'], 10, density=False, facecolor='blue')\n",
    "\n",
    "plt.xlabel(STAGE2['IndicatorName'].iloc[0])\n",
    "plt.ylabel('# of Countries')\n",
    "plt.title('Histogram of R&D Expen.')\n",
    "plt.axis([0, 5, 0,30])\n",
    "plt.grid(True)\n",
    "plt.show()"
   ]
  },
  {
   "cell_type": "markdown",
   "id": "3f1e0274",
   "metadata": {},
   "source": [
    "## > Plotting indicator against GDP of INDIA. "
   ]
  },
  {
   "cell_type": "code",
   "execution_count": 48,
   "id": "b73b98f4",
   "metadata": {},
   "outputs": [
    {
     "data": {
      "text/html": [
       "<div>\n",
       "<style scoped>\n",
       "    .dataframe tbody tr th:only-of-type {\n",
       "        vertical-align: middle;\n",
       "    }\n",
       "\n",
       "    .dataframe tbody tr th {\n",
       "        vertical-align: top;\n",
       "    }\n",
       "\n",
       "    .dataframe thead th {\n",
       "        text-align: right;\n",
       "    }\n",
       "</style>\n",
       "<table border=\"1\" class=\"dataframe\">\n",
       "  <thead>\n",
       "    <tr style=\"text-align: right;\">\n",
       "      <th></th>\n",
       "      <th>CountryName</th>\n",
       "      <th>CountryCode</th>\n",
       "      <th>IndicatorName</th>\n",
       "      <th>IndicatorCode</th>\n",
       "      <th>Year</th>\n",
       "      <th>Value</th>\n",
       "    </tr>\n",
       "  </thead>\n",
       "  <tbody>\n",
       "    <tr>\n",
       "      <th>11616</th>\n",
       "      <td>India</td>\n",
       "      <td>IND</td>\n",
       "      <td>GDP per capita (constant 2005 US$)</td>\n",
       "      <td>NY.GDP.PCAP.KD</td>\n",
       "      <td>1960</td>\n",
       "      <td>228.304470</td>\n",
       "    </tr>\n",
       "    <tr>\n",
       "      <th>36555</th>\n",
       "      <td>India</td>\n",
       "      <td>IND</td>\n",
       "      <td>GDP per capita (constant 2005 US$)</td>\n",
       "      <td>NY.GDP.PCAP.KD</td>\n",
       "      <td>1961</td>\n",
       "      <td>232.142053</td>\n",
       "    </tr>\n",
       "  </tbody>\n",
       "</table>\n",
       "</div>"
      ],
      "text/plain": [
       "      CountryName CountryCode                       IndicatorName  \\\n",
       "11616       India         IND  GDP per capita (constant 2005 US$)   \n",
       "36555       India         IND  GDP per capita (constant 2005 US$)   \n",
       "\n",
       "        IndicatorCode  Year       Value  \n",
       "11616  NY.GDP.PCAP.KD  1960  228.304470  \n",
       "36555  NY.GDP.PCAP.KD  1961  232.142053  "
      ]
     },
     "execution_count": 48,
     "metadata": {},
     "output_type": "execute_result"
    }
   ],
   "source": [
    "hist_indicator  = 'GDP per capita \\(constant 2005'\n",
    "hist_country = 'IND'\n",
    "\n",
    "mask1 = mask1 = data['IndicatorName'].str.contains(hist_indicator) \n",
    "mask2 = data['CountryCode'].str.contains(hist_country)\n",
    "\n",
    "gdp_stageI = data[mask1 & mask2]\n",
    "\n",
    "gdp_stageI.head(2)"
   ]
  },
  {
   "cell_type": "code",
   "execution_count": 49,
   "id": "82d33ae8",
   "metadata": {},
   "outputs": [
    {
     "data": {
      "text/plain": [
       "<function matplotlib.pyplot.show(close=None, block=None)>"
      ]
     },
     "execution_count": 49,
     "metadata": {},
     "output_type": "execute_result"
    },
    {
     "data": {
      "image/png": "[encoded data removed]",
      "text/plain": [
       "<Figure size 432x288 with 1 Axes>"
      ]
     },
     "metadata": {
      "needs_background": "light"
     },
     "output_type": "display_data"
    }
   ],
   "source": [
    "plt.plot(gdp_stageI['Year'].values, gdp_stageI['Value'].values)\n",
    "\n",
    "plt.xlabel('Year')\n",
    "plt.ylabel(gdp_stageI['IndicatorName'].iloc[0])\n",
    "\n",
    "plt.title('GDP per capita India')\n",
    "plt.show"
   ]
  },
  {
   "cell_type": "code",
   "execution_count": 50,
   "id": "b4afe404",
   "metadata": {},
   "outputs": [
    {
     "name": "stdout",
     "output_type": "stream",
     "text": [
      "GDP Min Year =  1960 max:  2014\n",
      "R&d Exp. Min Year=  1996 max:  2011\n"
     ]
    }
   ],
   "source": [
    "print(\"GDP Min Year = \", gdp_stageI['Year'].min(), \"max: \", gdp_stageI['Year'].max())\n",
    "print(\"R&d Exp. Min Year= \", STAGE2['Year'].min(), \"max: \", STAGE2['Year'].max())"
   ]
  },
  {
   "cell_type": "markdown",
   "id": "921ce9a3",
   "metadata": {},
   "source": [
    "We have a lot of extra data. Hence  we will be truncating this extra years of data to produce the scatter plot. "
   ]
  },
  {
   "cell_type": "code",
   "execution_count": 51,
   "id": "819f1134",
   "metadata": {},
   "outputs": [
    {
     "name": "stdout",
     "output_type": "stream",
     "text": [
      "19\n",
      "16\n"
     ]
    }
   ],
   "source": [
    "gdp_stage_trunc0 = gdp_stageI[gdp_stageI['Year'] > 1995]\n",
    "print(len(gdp_stage_trunc0))\n",
    "print(len(STAGE2))"
   ]
  },
  {
   "cell_type": "code",
   "execution_count": 52,
   "id": "647630d4",
   "metadata": {},
   "outputs": [
    {
     "name": "stdout",
     "output_type": "stream",
     "text": [
      "16\n",
      "16\n"
     ]
    }
   ],
   "source": [
    "gdp_stage_trunc01 = gdp_stage_trunc0[gdp_stage_trunc0['Year'] < 2012]\n",
    "print(len(gdp_stage_trunc01))\n",
    "print(len(STAGE2))"
   ]
  },
  {
   "cell_type": "code",
   "execution_count": 53,
   "id": "c55db369",
   "metadata": {},
   "outputs": [
    {
     "data": {
      "image/png": "[encoded data removed]",
      "text/plain": [
       "<Figure size 432x288 with 1 Axes>"
      ]
     },
     "metadata": {
      "needs_background": "light"
     },
     "output_type": "display_data"
    }
   ],
   "source": [
    "%matplotlib inline\n",
    "import matplotlib.pyplot as plt\n",
    "\n",
    "fig, axis = plt.subplots()\n",
    "# Grid lines, Xticks, Xlabel, Ylabel\n",
    "\n",
    "axis.yaxis.grid(True)\n",
    "axis.set_title('R&D Expenditure. GDP \\(per capita\\)',fontsize=10)\n",
    "axis.set_xlabel(gdp_stage_trunc01['IndicatorName'].iloc[0],fontsize=10)\n",
    "axis.set_ylabel(STAGE2['IndicatorName'].iloc[0],fontsize=10)\n",
    "\n",
    "X = gdp_stage_trunc01['Value']\n",
    "Y = STAGE2['Value']\n",
    "\n",
    "axis.scatter(X, Y)\n",
    "plt.show()"
   ]
  },
  {
   "cell_type": "code",
   "execution_count": 54,
   "id": "0a690603",
   "metadata": {},
   "outputs": [
    {
     "data": {
      "text/plain": [
       "array([[1.        , 0.87211488],\n",
       "       [0.87211488, 1.        ]])"
      ]
     },
     "execution_count": 54,
     "metadata": {},
     "output_type": "execute_result"
    }
   ],
   "source": [
    "np.corrcoef(gdp_stage_trunc01['Value'],STAGE2['Value'])"
   ]
  },
  {
   "cell_type": "markdown",
   "id": "9b29af18",
   "metadata": {},
   "source": [
    "The correlation for India is around 0.87 which,compared to that of USA is quite high."
   ]
  }
 ],
 "metadata": {
  "kernelspec": {
   "display_name": "Python 3",
   "language": "python",
   "name": "python3"
  },
  "language_info": {
   "codemirror_mode": {
    "name": "ipython",
    "version": 3
   },
   "file_extension": ".py",
   "mimetype": "text/x-python",
   "name": "python",
   "nbconvert_exporter": "python",
   "pygments_lexer": "ipython3",
   "version": "3.8.8"
  }
 },
 "nbformat": 4,
 "nbformat_minor": 5
}
